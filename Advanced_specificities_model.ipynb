{
  "nbformat": 4,
  "nbformat_minor": 0,
  "metadata": {
    "colab": {
      "provenance": [],
      "authorship_tag": "ABX9TyPjQLh32yrPp/KV6W7lCX0b"
    },
    "kernelspec": {
      "name": "python3",
      "display_name": "Python 3"
    },
    "language_info": {
      "name": "python"
    }
  },
  "cells": [
    {
      "cell_type": "code",
      "execution_count": 1,
      "metadata": {
        "id": "iXjFlrI0isQu"
      },
      "outputs": [],
      "source": [
        "import pandas as pd\n",
        "\n",
        "df = pd.read_csv('Processed_Specificities_Data.csv')"
      ]
    },
    {
      "cell_type": "code",
      "source": [
        "df = df[df['Target Name'] != 'P2X purinoceptor 4']\n",
        "df = df.dropna()\n",
        "\n",
        "df = pd.get_dummies(df, columns=['Target Name'])\n",
        "\n",
        "print(df.head())"
      ],
      "metadata": {
        "colab": {
          "base_uri": "https://localhost:8080/"
        },
        "id": "a5XcZAX1quoE",
        "outputId": "f5229415-965e-4d9e-f635-021b6c893762"
      },
      "execution_count": 2,
      "outputs": [
        {
          "output_type": "stream",
          "name": "stdout",
          "text": [
            "   Molecular Weight  AlogP                                             Smiles  \\\n",
            "0            497.60   4.39  COc1ccc(CC(=O)N2CCN(/C(=N/C#N)Nc3ccccc3C)CC2c2...   \n",
            "1            438.81   4.65  O=C(c1cccc(C(F)(F)F)c1Cl)N1CCc2c(ncn2-c2ccccn2...   \n",
            "2            473.80   5.76  O=C(c1cccc(C(F)(F)F)c1Cl)N1CCc2c(nc(C(F)(F)F)n...   \n",
            "3            438.81   4.84  C[C@H]1c2ncn(-c3ccc(F)cn3)c2CCN1C(=O)c1cccc(C(...   \n",
            "4            437.82   5.44  C[C@H]1c2ncn(-c3ccc(F)cc3)c2CCN1C(=O)c1cccc(C(...   \n",
            "\n",
            "     pValue  Target Name_Adenosine A2a receptor  \\\n",
            "0  6.853872                               False   \n",
            "1  7.183759                               False   \n",
            "2  6.897909                               False   \n",
            "3  5.000000                               False   \n",
            "4  5.690008                               False   \n",
            "\n",
            "   Target Name_P2X purinoceptor 7  \\\n",
            "0                            True   \n",
            "1                            True   \n",
            "2                            True   \n",
            "3                            True   \n",
            "4                            True   \n",
            "\n",
            "   Target Name_Voltage-gated L-type calcium channel alpha-1C subunit  \n",
            "0                                              False                  \n",
            "1                                              False                  \n",
            "2                                              False                  \n",
            "3                                              False                  \n",
            "4                                              False                  \n"
          ]
        }
      ]
    },
    {
      "cell_type": "code",
      "source": [
        "print(df.shape)"
      ],
      "metadata": {
        "colab": {
          "base_uri": "https://localhost:8080/"
        },
        "id": "dOwHJhYOq9sM",
        "outputId": "9b55dcef-beed-41bb-c6a9-ed2930cace8a"
      },
      "execution_count": 3,
      "outputs": [
        {
          "output_type": "stream",
          "name": "stdout",
          "text": [
            "(4727, 7)\n"
          ]
        }
      ]
    },
    {
      "cell_type": "code",
      "source": [
        "df.reset_index(drop=True, inplace=True)\n",
        "\n",
        "print(\"Counts for each target:\")\n",
        "print(\"P2X purinoceptor 7:\", df['Target Name_P2X purinoceptor 7'].sum())\n",
        "print(\"Adenosine A2a receptor:\", df['Target Name_Adenosine A2a receptor'].sum())\n",
        "print(\"Voltage-gated L-type calcium channel alpha-1C subunit:\", df['Target Name_Voltage-gated L-type calcium channel alpha-1C subunit'].sum())"
      ],
      "metadata": {
        "colab": {
          "base_uri": "https://localhost:8080/"
        },
        "id": "dYQzIFJArAoN",
        "outputId": "f505b8aa-6432-431f-b629-a4b3ffca0673"
      },
      "execution_count": 5,
      "outputs": [
        {
          "output_type": "stream",
          "name": "stdout",
          "text": [
            "Counts for each target:\n",
            "P2X purinoceptor 7: 1103\n",
            "Adenosine A2a receptor: 2503\n",
            "Voltage-gated L-type calcium channel alpha-1C subunit: 1121\n"
          ]
        }
      ]
    },
    {
      "cell_type": "code",
      "source": [
        "!pip install transformers torch"
      ],
      "metadata": {
        "colab": {
          "base_uri": "https://localhost:8080/"
        },
        "id": "RkM6ZtZSrnaa",
        "outputId": "5cdcfc13-c831-4f42-997b-62ca1836b083"
      },
      "execution_count": 6,
      "outputs": [
        {
          "output_type": "stream",
          "name": "stdout",
          "text": [
            "Requirement already satisfied: transformers in /usr/local/lib/python3.10/dist-packages (4.41.2)\n",
            "Requirement already satisfied: torch in /usr/local/lib/python3.10/dist-packages (2.3.0+cu121)\n",
            "Requirement already satisfied: filelock in /usr/local/lib/python3.10/dist-packages (from transformers) (3.14.0)\n",
            "Requirement already satisfied: huggingface-hub<1.0,>=0.23.0 in /usr/local/lib/python3.10/dist-packages (from transformers) (0.23.3)\n",
            "Requirement already satisfied: numpy>=1.17 in /usr/local/lib/python3.10/dist-packages (from transformers) (1.25.2)\n",
            "Requirement already satisfied: packaging>=20.0 in /usr/local/lib/python3.10/dist-packages (from transformers) (24.1)\n",
            "Requirement already satisfied: pyyaml>=5.1 in /usr/local/lib/python3.10/dist-packages (from transformers) (6.0.1)\n",
            "Requirement already satisfied: regex!=2019.12.17 in /usr/local/lib/python3.10/dist-packages (from transformers) (2024.5.15)\n",
            "Requirement already satisfied: requests in /usr/local/lib/python3.10/dist-packages (from transformers) (2.31.0)\n",
            "Requirement already satisfied: tokenizers<0.20,>=0.19 in /usr/local/lib/python3.10/dist-packages (from transformers) (0.19.1)\n",
            "Requirement already satisfied: safetensors>=0.4.1 in /usr/local/lib/python3.10/dist-packages (from transformers) (0.4.3)\n",
            "Requirement already satisfied: tqdm>=4.27 in /usr/local/lib/python3.10/dist-packages (from transformers) (4.66.4)\n",
            "Requirement already satisfied: typing-extensions>=4.8.0 in /usr/local/lib/python3.10/dist-packages (from torch) (4.12.2)\n",
            "Requirement already satisfied: sympy in /usr/local/lib/python3.10/dist-packages (from torch) (1.12.1)\n",
            "Requirement already satisfied: networkx in /usr/local/lib/python3.10/dist-packages (from torch) (3.3)\n",
            "Requirement already satisfied: jinja2 in /usr/local/lib/python3.10/dist-packages (from torch) (3.1.4)\n",
            "Requirement already satisfied: fsspec in /usr/local/lib/python3.10/dist-packages (from torch) (2023.6.0)\n",
            "Requirement already satisfied: nvidia-cuda-nvrtc-cu12==12.1.105 in /usr/local/lib/python3.10/dist-packages (from torch) (12.1.105)\n",
            "Requirement already satisfied: nvidia-cuda-runtime-cu12==12.1.105 in /usr/local/lib/python3.10/dist-packages (from torch) (12.1.105)\n",
            "Requirement already satisfied: nvidia-cuda-cupti-cu12==12.1.105 in /usr/local/lib/python3.10/dist-packages (from torch) (12.1.105)\n",
            "Requirement already satisfied: nvidia-cudnn-cu12==8.9.2.26 in /usr/local/lib/python3.10/dist-packages (from torch) (8.9.2.26)\n",
            "Requirement already satisfied: nvidia-cublas-cu12==12.1.3.1 in /usr/local/lib/python3.10/dist-packages (from torch) (12.1.3.1)\n",
            "Requirement already satisfied: nvidia-cufft-cu12==11.0.2.54 in /usr/local/lib/python3.10/dist-packages (from torch) (11.0.2.54)\n",
            "Requirement already satisfied: nvidia-curand-cu12==10.3.2.106 in /usr/local/lib/python3.10/dist-packages (from torch) (10.3.2.106)\n",
            "Requirement already satisfied: nvidia-cusolver-cu12==11.4.5.107 in /usr/local/lib/python3.10/dist-packages (from torch) (11.4.5.107)\n",
            "Requirement already satisfied: nvidia-cusparse-cu12==12.1.0.106 in /usr/local/lib/python3.10/dist-packages (from torch) (12.1.0.106)\n",
            "Requirement already satisfied: nvidia-nccl-cu12==2.20.5 in /usr/local/lib/python3.10/dist-packages (from torch) (2.20.5)\n",
            "Requirement already satisfied: nvidia-nvtx-cu12==12.1.105 in /usr/local/lib/python3.10/dist-packages (from torch) (12.1.105)\n",
            "Requirement already satisfied: triton==2.3.0 in /usr/local/lib/python3.10/dist-packages (from torch) (2.3.0)\n",
            "Requirement already satisfied: nvidia-nvjitlink-cu12 in /usr/local/lib/python3.10/dist-packages (from nvidia-cusolver-cu12==11.4.5.107->torch) (12.5.40)\n",
            "Requirement already satisfied: MarkupSafe>=2.0 in /usr/local/lib/python3.10/dist-packages (from jinja2->torch) (2.1.5)\n",
            "Requirement already satisfied: charset-normalizer<4,>=2 in /usr/local/lib/python3.10/dist-packages (from requests->transformers) (3.3.2)\n",
            "Requirement already satisfied: idna<4,>=2.5 in /usr/local/lib/python3.10/dist-packages (from requests->transformers) (3.7)\n",
            "Requirement already satisfied: urllib3<3,>=1.21.1 in /usr/local/lib/python3.10/dist-packages (from requests->transformers) (2.0.7)\n",
            "Requirement already satisfied: certifi>=2017.4.17 in /usr/local/lib/python3.10/dist-packages (from requests->transformers) (2024.6.2)\n",
            "Requirement already satisfied: mpmath<1.4.0,>=1.1.0 in /usr/local/lib/python3.10/dist-packages (from sympy->torch) (1.3.0)\n"
          ]
        }
      ]
    },
    {
      "cell_type": "code",
      "source": [
        "from transformers import AutoTokenizer, AutoModel\n",
        "import torch\n",
        "\n",
        "tokenizer = AutoTokenizer.from_pretrained(\"seyonec/ChemBERTa-zinc-base-v1\")\n",
        "model = AutoModel.from_pretrained(\"seyonec/ChemBERTa-zinc-base-v1\")"
      ],
      "metadata": {
        "colab": {
          "base_uri": "https://localhost:8080/"
        },
        "id": "nY3S8xJKr7Z9",
        "outputId": "14995581-9163-47cb-b46a-61a1e69d8058"
      },
      "execution_count": 7,
      "outputs": [
        {
          "output_type": "stream",
          "name": "stderr",
          "text": [
            "/usr/local/lib/python3.10/dist-packages/huggingface_hub/utils/_token.py:89: UserWarning: \n",
            "The secret `HF_TOKEN` does not exist in your Colab secrets.\n",
            "To authenticate with the Hugging Face Hub, create a token in your settings tab (https://huggingface.co/settings/tokens), set it as secret in your Google Colab and restart your session.\n",
            "You will be able to reuse this secret in all of your notebooks.\n",
            "Please note that authentication is recommended but still optional to access public models or datasets.\n",
            "  warnings.warn(\n"
          ]
        }
      ]
    },
    {
      "cell_type": "code",
      "source": [
        "model.eval()"
      ],
      "metadata": {
        "colab": {
          "base_uri": "https://localhost:8080/"
        },
        "id": "qnc15noZsANn",
        "outputId": "907f8593-0944-44a8-c16b-462ce202f21a"
      },
      "execution_count": 8,
      "outputs": [
        {
          "output_type": "execute_result",
          "data": {
            "text/plain": [
              "RobertaModel(\n",
              "  (embeddings): RobertaEmbeddings(\n",
              "    (word_embeddings): Embedding(767, 768, padding_idx=1)\n",
              "    (position_embeddings): Embedding(514, 768, padding_idx=1)\n",
              "    (token_type_embeddings): Embedding(1, 768)\n",
              "    (LayerNorm): LayerNorm((768,), eps=1e-05, elementwise_affine=True)\n",
              "    (dropout): Dropout(p=0.1, inplace=False)\n",
              "  )\n",
              "  (encoder): RobertaEncoder(\n",
              "    (layer): ModuleList(\n",
              "      (0-5): 6 x RobertaLayer(\n",
              "        (attention): RobertaAttention(\n",
              "          (self): RobertaSelfAttention(\n",
              "            (query): Linear(in_features=768, out_features=768, bias=True)\n",
              "            (key): Linear(in_features=768, out_features=768, bias=True)\n",
              "            (value): Linear(in_features=768, out_features=768, bias=True)\n",
              "            (dropout): Dropout(p=0.1, inplace=False)\n",
              "          )\n",
              "          (output): RobertaSelfOutput(\n",
              "            (dense): Linear(in_features=768, out_features=768, bias=True)\n",
              "            (LayerNorm): LayerNorm((768,), eps=1e-05, elementwise_affine=True)\n",
              "            (dropout): Dropout(p=0.1, inplace=False)\n",
              "          )\n",
              "        )\n",
              "        (intermediate): RobertaIntermediate(\n",
              "          (dense): Linear(in_features=768, out_features=3072, bias=True)\n",
              "          (intermediate_act_fn): GELUActivation()\n",
              "        )\n",
              "        (output): RobertaOutput(\n",
              "          (dense): Linear(in_features=3072, out_features=768, bias=True)\n",
              "          (LayerNorm): LayerNorm((768,), eps=1e-05, elementwise_affine=True)\n",
              "          (dropout): Dropout(p=0.1, inplace=False)\n",
              "        )\n",
              "      )\n",
              "    )\n",
              "  )\n",
              "  (pooler): RobertaPooler(\n",
              "    (dense): Linear(in_features=768, out_features=768, bias=True)\n",
              "    (activation): Tanh()\n",
              "  )\n",
              ")"
            ]
          },
          "metadata": {},
          "execution_count": 8
        }
      ]
    },
    {
      "cell_type": "code",
      "source": [
        "# Function to encode SMILES and get embeddings\n",
        "def get_embeddings(smiles):\n",
        "    inputs = tokenizer(smiles, return_tensors=\"pt\", padding=True)\n",
        "    with torch.no_grad():\n",
        "        outputs = model(**inputs)\n",
        "    embeddings = outputs.last_hidden_state.mean(dim=1)\n",
        "    return embeddings.numpy().flatten()"
      ],
      "metadata": {
        "id": "O-Y98W-JsvsL"
      },
      "execution_count": 9,
      "outputs": []
    },
    {
      "cell_type": "code",
      "source": [
        "df['Embeddings'] = df['Smiles'].apply(get_embeddings)"
      ],
      "metadata": {
        "id": "F_YcbzPfs3QU"
      },
      "execution_count": 10,
      "outputs": []
    },
    {
      "cell_type": "code",
      "source": [
        "print(df.head())"
      ],
      "metadata": {
        "colab": {
          "base_uri": "https://localhost:8080/"
        },
        "id": "zUDStqfNs7vr",
        "outputId": "f078a123-adbd-40cc-97cf-a2dc5afbddd1"
      },
      "execution_count": 11,
      "outputs": [
        {
          "output_type": "stream",
          "name": "stdout",
          "text": [
            "   Molecular Weight  AlogP                                             Smiles  \\\n",
            "0            497.60   4.39  COc1ccc(CC(=O)N2CCN(/C(=N/C#N)Nc3ccccc3C)CC2c2...   \n",
            "1            438.81   4.65  O=C(c1cccc(C(F)(F)F)c1Cl)N1CCc2c(ncn2-c2ccccn2...   \n",
            "2            473.80   5.76  O=C(c1cccc(C(F)(F)F)c1Cl)N1CCc2c(nc(C(F)(F)F)n...   \n",
            "3            438.81   4.84  C[C@H]1c2ncn(-c3ccc(F)cn3)c2CCN1C(=O)c1cccc(C(...   \n",
            "4            437.82   5.44  C[C@H]1c2ncn(-c3ccc(F)cc3)c2CCN1C(=O)c1cccc(C(...   \n",
            "\n",
            "     pValue  Target Name_Adenosine A2a receptor  \\\n",
            "0  6.853872                               False   \n",
            "1  7.183759                               False   \n",
            "2  6.897909                               False   \n",
            "3  5.000000                               False   \n",
            "4  5.690008                               False   \n",
            "\n",
            "   Target Name_P2X purinoceptor 7  \\\n",
            "0                            True   \n",
            "1                            True   \n",
            "2                            True   \n",
            "3                            True   \n",
            "4                            True   \n",
            "\n",
            "   Target Name_Voltage-gated L-type calcium channel alpha-1C subunit  \\\n",
            "0                                              False                   \n",
            "1                                              False                   \n",
            "2                                              False                   \n",
            "3                                              False                   \n",
            "4                                              False                   \n",
            "\n",
            "                                          Embeddings  \n",
            "0  [0.67973566, 0.32417932, 0.48379833, -0.131346...  \n",
            "1  [0.75403345, 0.32948488, -0.02612416, -0.20111...  \n",
            "2  [0.600266, 0.08716348, -0.056370154, -0.138342...  \n",
            "3  [0.59799314, 0.16035794, 0.2617961, -0.1995806...  \n",
            "4  [0.58248335, 0.09541285, 0.19278586, -0.184182...  \n"
          ]
        }
      ]
    },
    {
      "cell_type": "code",
      "source": [
        "df['Embedding Shape'] = df['Embeddings'].apply(lambda x: x.shape)\n",
        "\n",
        "all_same_shape = df['Embedding Shape'].nunique() == 1\n",
        "print(\"All embeddings have the same shape:\", all_same_shape)\n",
        "\n",
        "if not all_same_shape:\n",
        "    print(\"Unique embedding shapes:\", df['Embedding Shape'].unique())\n",
        "\n",
        "if all_same_shape:\n",
        "    print(\"Shape of embeddings:\", df['Embedding Shape'].iloc[0])"
      ],
      "metadata": {
        "colab": {
          "base_uri": "https://localhost:8080/"
        },
        "id": "5PGYKbELuoQn",
        "outputId": "89090355-cdbc-4420-8ba3-775afbad8bfc"
      },
      "execution_count": 13,
      "outputs": [
        {
          "output_type": "stream",
          "name": "stdout",
          "text": [
            "All embeddings have the same shape: True\n",
            "Shape of embeddings: (768,)\n"
          ]
        }
      ]
    },
    {
      "cell_type": "code",
      "source": [
        "df_adenosine_a2a = df[df['Target Name_Adenosine A2a receptor']]\n",
        "df_p2x_purinoceptor_7 = df[df['Target Name_P2X purinoceptor 7']]\n",
        "df_cacna1c = df[df['Target Name_Voltage-gated L-type calcium channel alpha-1C subunit']]"
      ],
      "metadata": {
        "id": "Xg1NonwSvIME"
      },
      "execution_count": 15,
      "outputs": []
    },
    {
      "cell_type": "code",
      "source": [
        "import numpy as np\n",
        "from sklearn.model_selection import train_test_split\n",
        "from sklearn.linear_model import Ridge\n",
        "from sklearn.metrics import mean_squared_error, r2_score\n",
        "from sklearn.linear_model import Lasso\n",
        "from sklearn.ensemble import RandomForestRegressor\n",
        "from sklearn.svm import SVR\n",
        "from sklearn.tree import DecisionTreeRegressor\n",
        "from sklearn.neural_network import MLPRegressor"
      ],
      "metadata": {
        "id": "9sMB_LXcvQRC"
      },
      "execution_count": 56,
      "outputs": []
    },
    {
      "cell_type": "markdown",
      "source": [
        "# Adenosine a2a target models"
      ],
      "metadata": {
        "id": "oxFkp-lqXgBu"
      }
    },
    {
      "cell_type": "code",
      "source": [
        "aX = np.array(df_adenosine_a2a['Embeddings'].tolist())\n",
        "ay = df_adenosine_a2a['pValue'].values\n",
        "\n",
        "aX_train, aX_test, ay_train, ay_test = train_test_split(aX, ay, test_size=0.2, random_state=42)"
      ],
      "metadata": {
        "id": "qCEPi4Rky_hR"
      },
      "execution_count": 24,
      "outputs": []
    },
    {
      "cell_type": "code",
      "source": [
        "# Decision Tree Regressor\n",
        "adt_model = DecisionTreeRegressor()\n",
        "adt_model.fit(aX_train, ay_train)\n",
        "ay_pred_dt = adt_model.predict(aX_test)\n",
        "mse_adt = mean_squared_error(ay_test, ay_pred_dt)\n",
        "r2_adt = r2_score(ay_test, ay_pred_dt)\n",
        "print(\"Decision Tree Regression - MSE:\", mse_adt, \"R2:\", r2_adt)"
      ],
      "metadata": {
        "colab": {
          "base_uri": "https://localhost:8080/"
        },
        "id": "C99QJ1Z4zYkb",
        "outputId": "8ff9b96c-9ab1-4f9f-bf12-4719d5e76d3c"
      },
      "execution_count": 25,
      "outputs": [
        {
          "output_type": "stream",
          "name": "stdout",
          "text": [
            "Decision Tree Regression - MSE: 1.044157091494118 R2: 0.3500243610323789\n"
          ]
        }
      ]
    },
    {
      "cell_type": "code",
      "source": [
        "# Support Vector Machine Regressor\n",
        "asvm_model = SVR()\n",
        "asvm_model.fit(aX_train, ay_train)\n",
        "ay_pred_svm = asvm_model.predict(aX_test)\n",
        "mse_asvm = mean_squared_error(ay_test, ay_pred_svm)\n",
        "r2_asvm = r2_score(ay_test, ay_pred_svm)\n",
        "print(\"SVM Regression - MSE:\", mse_asvm, \"R2:\", r2_asvm)"
      ],
      "metadata": {
        "colab": {
          "base_uri": "https://localhost:8080/"
        },
        "id": "9pMpLdasz--0",
        "outputId": "79abcf1c-3a6b-4290-e6f3-998ecf40d0ed"
      },
      "execution_count": 26,
      "outputs": [
        {
          "output_type": "stream",
          "name": "stdout",
          "text": [
            "SVM Regression - MSE: 0.7524697652540674 R2: 0.5315963273543658\n"
          ]
        }
      ]
    },
    {
      "cell_type": "code",
      "source": [
        "import xgboost as xgb\n",
        "\n",
        "# XGBoost Regressor\n",
        "axgb_model = xgb.XGBRegressor(objective='reg:squarederror')\n",
        "axgb_model.fit(aX_train, ay_train)\n",
        "ay_pred_xgb = axgb_model.predict(aX_test)\n",
        "mse_axgb = mean_squared_error(ay_test, ay_pred_xgb)\n",
        "r2_axgb = r2_score(ay_test, ay_pred_xgb)\n",
        "print(\"XGBoost Regression - MSE:\", mse_axgb, \"R2:\", r2_axgb)"
      ],
      "metadata": {
        "colab": {
          "base_uri": "https://localhost:8080/"
        },
        "id": "njNxtVpI0Xog",
        "outputId": "41c42cde-f2b6-43b3-8ae1-c051d1f83d7f"
      },
      "execution_count": 27,
      "outputs": [
        {
          "output_type": "stream",
          "name": "stdout",
          "text": [
            "XGBoost Regression - MSE: 0.6863186056770604 R2: 0.5727746544133612\n"
          ]
        }
      ]
    },
    {
      "cell_type": "code",
      "source": [
        "# MLP Regressor\n",
        "amlp_model = MLPRegressor(max_iter=500)\n",
        "amlp_model.fit(aX_train, ay_train)\n",
        "ay_pred_mlp = amlp_model.predict(aX_test)\n",
        "mse_amlp = mean_squared_error(ay_test, ay_pred_mlp)\n",
        "r2_amlp = r2_score(ay_test, ay_pred_mlp)\n",
        "print(\"MLP Regression - MSE:\", mse_amlp, \"R2:\", r2_amlp)"
      ],
      "metadata": {
        "colab": {
          "base_uri": "https://localhost:8080/"
        },
        "id": "IAfiw5C00qaf",
        "outputId": "77acb32d-bc60-4d80-b59b-ca85a02015fd"
      },
      "execution_count": 28,
      "outputs": [
        {
          "output_type": "stream",
          "name": "stdout",
          "text": [
            "MLP Regression - MSE: 0.7734632636343427 R2: 0.518528118906574\n"
          ]
        }
      ]
    },
    {
      "cell_type": "code",
      "source": [
        "# Ridge Regression\n",
        "aridge_model = Ridge()\n",
        "aridge_model.fit(aX_train, ay_train)\n",
        "ay_pred_ridge = aridge_model.predict(aX_test)\n",
        "mse_aridge = mean_squared_error(ay_test, ay_pred_ridge)\n",
        "r2_aridge = r2_score(ay_test, ay_pred_ridge)\n",
        "print(\"Ridge Regression - MSE:\", mse_aridge, \"R2:\", r2_aridge)"
      ],
      "metadata": {
        "colab": {
          "base_uri": "https://localhost:8080/"
        },
        "id": "OWFc5itO1PAX",
        "outputId": "7bd39cb2-edac-49d6-9f9e-57316c0059d2"
      },
      "execution_count": 29,
      "outputs": [
        {
          "output_type": "stream",
          "name": "stdout",
          "text": [
            "Ridge Regression - MSE: 0.7036571698055611 R2: 0.5619816000061195\n"
          ]
        }
      ]
    },
    {
      "cell_type": "code",
      "source": [
        "# Lasso Regression\n",
        "alasso_model = Lasso()\n",
        "alasso_model.fit(aX_train, ay_train)\n",
        "ay_pred_lasso = alasso_model.predict(aX_test)\n",
        "mse_alasso = mean_squared_error(ay_test, ay_pred_lasso)\n",
        "r2_alasso = r2_score(ay_test, ay_pred_lasso)\n",
        "print(\"Lasso Regression - MSE:\", mse_alasso, \"R2:\", r2_alasso)"
      ],
      "metadata": {
        "colab": {
          "base_uri": "https://localhost:8080/"
        },
        "id": "KAzV2RQY1cn1",
        "outputId": "808f2ded-ba5f-4f3d-c8ac-5984ada27b63"
      },
      "execution_count": 30,
      "outputs": [
        {
          "output_type": "stream",
          "name": "stdout",
          "text": [
            "Lasso Regression - MSE: 1.6077938018857996 R2: -0.0008329323450180226\n"
          ]
        }
      ]
    },
    {
      "cell_type": "code",
      "source": [
        "# Random Forest Regressor\n",
        "arf_model = RandomForestRegressor()\n",
        "arf_model.fit(aX_train, ay_train)\n",
        "ay_pred_rf = arf_model.predict(aX_test)\n",
        "mse_arf = mean_squared_error(ay_test, ay_pred_rf)\n",
        "r2_arf = r2_score(ay_test, ay_pred_rf)\n",
        "print(\"Random Forest Regression - MSE:\", mse_arf, \"R2:\", r2_arf)"
      ],
      "metadata": {
        "colab": {
          "base_uri": "https://localhost:8080/"
        },
        "id": "R57NxvQM0OdI",
        "outputId": "c1f0aa8b-e461-4bb5-faa3-1694881fd53d"
      },
      "execution_count": 31,
      "outputs": [
        {
          "output_type": "stream",
          "name": "stdout",
          "text": [
            "Random Forest Regression - MSE: 0.6050597140066977 R2: 0.6233573688971256\n"
          ]
        }
      ]
    },
    {
      "cell_type": "code",
      "source": [
        "X_p2x = np.array(df_p2x_purinoceptor_7['Embeddings'].tolist())\n",
        "predicted_pValues_aa2a = arf_model.predict(X_p2x)\n",
        "\n",
        "df_p2x_purinoceptor_7.loc[:, 'Predicted pValue for AA2A'] = predicted_pValues_aa2a"
      ],
      "metadata": {
        "id": "T3QoCEB81sAB"
      },
      "execution_count": 57,
      "outputs": []
    },
    {
      "cell_type": "markdown",
      "source": [
        "# Cacna1c Target models"
      ],
      "metadata": {
        "id": "rFwAWA_jYFvB"
      }
    },
    {
      "cell_type": "code",
      "source": [
        "cX = np.array(df_cacna1c['Embeddings'].tolist())\n",
        "cy = df_cacna1c['pValue'].values\n",
        "\n",
        "cX_train, cX_test, cy_train, cy_test = train_test_split(cX, cy, test_size=0.2, random_state=42)"
      ],
      "metadata": {
        "id": "UBfIW-ldYFXn"
      },
      "execution_count": 33,
      "outputs": []
    },
    {
      "cell_type": "code",
      "source": [
        "# Decision Tree Regressor\n",
        "cdt_model = DecisionTreeRegressor()\n",
        "cdt_model.fit(cX_train, cy_train)\n",
        "cy_pred_dt = cdt_model.predict(cX_test)\n",
        "mse_cdt = mean_squared_error(cy_test, cy_pred_dt)\n",
        "r2_cdt = r2_score(cy_test, cy_pred_dt)\n",
        "print(\"Decision Tree Regression - MSE:\", mse_cdt, \"R2:\", r2_cdt)"
      ],
      "metadata": {
        "colab": {
          "base_uri": "https://localhost:8080/"
        },
        "id": "9b6H2RJYX-rq",
        "outputId": "3ca22e09-4461-4d6f-f170-4f39b017d812"
      },
      "execution_count": 34,
      "outputs": [
        {
          "output_type": "stream",
          "name": "stdout",
          "text": [
            "Decision Tree Regression - MSE: 0.8007015774511453 R2: -0.9033858556719094\n"
          ]
        }
      ]
    },
    {
      "cell_type": "code",
      "source": [
        "# XGBoost Regressor\n",
        "cxgb_model = xgb.XGBRegressor(objective='reg:squarederror')\n",
        "cxgb_model.fit(cX_train, cy_train)\n",
        "cy_pred_xgb = cxgb_model.predict(cX_test)\n",
        "mse_cxgb = mean_squared_error(cy_test, cy_pred_xgb)\n",
        "r2_cxgb = r2_score(cy_test, cy_pred_xgb)\n",
        "print(\"XGBoost Regression - MSE:\", mse_cxgb, \"R2:\", r2_cxgb)"
      ],
      "metadata": {
        "colab": {
          "base_uri": "https://localhost:8080/"
        },
        "id": "BzKQLtrXYvXe",
        "outputId": "f845ca06-db7e-429f-860d-bff9ec2e127e"
      },
      "execution_count": 36,
      "outputs": [
        {
          "output_type": "stream",
          "name": "stdout",
          "text": [
            "XGBoost Regression - MSE: 0.34602793714260305 R2: 0.1774405099573505\n"
          ]
        }
      ]
    },
    {
      "cell_type": "code",
      "source": [
        "# MLP Regressor\n",
        "cmlp_model = MLPRegressor(max_iter=500)\n",
        "cmlp_model.fit(cX_train, cy_train)\n",
        "cy_pred_mlp = cmlp_model.predict(cX_test)\n",
        "mse_cmlp = mean_squared_error(cy_test, cy_pred_mlp)\n",
        "r2_cmlp = r2_score(cy_test, cy_pred_mlp)\n",
        "print(\"MLP Regression - MSE:\", mse_cmlp, \"R2:\", r2_cmlp)"
      ],
      "metadata": {
        "colab": {
          "base_uri": "https://localhost:8080/"
        },
        "id": "-XPRN-BWY_Uj",
        "outputId": "102aef52-d051-41e6-8780-be6e0a276326"
      },
      "execution_count": 37,
      "outputs": [
        {
          "output_type": "stream",
          "name": "stdout",
          "text": [
            "MLP Regression - MSE: 0.32107303358208816 R2: 0.23676199976625334\n"
          ]
        }
      ]
    },
    {
      "cell_type": "code",
      "source": [
        "# Ridge Regression\n",
        "cridge_model = Ridge()\n",
        "cridge_model.fit(cX_train, cy_train)\n",
        "cy_pred_ridge = cridge_model.predict(cX_test)\n",
        "mse_cridge = mean_squared_error(cy_test, cy_pred_ridge)\n",
        "r2_cridge = r2_score(cy_test, cy_pred_ridge)\n",
        "print(\"Ridge Regression - MSE:\", mse_cridge, \"R2:\", r2_cridge)"
      ],
      "metadata": {
        "colab": {
          "base_uri": "https://localhost:8080/"
        },
        "id": "XR27QbmpZLxn",
        "outputId": "e2008db1-5f11-425b-df5e-446ad74674ad"
      },
      "execution_count": 38,
      "outputs": [
        {
          "output_type": "stream",
          "name": "stdout",
          "text": [
            "Ridge Regression - MSE: 0.3058776855373271 R2: 0.27288358532935253\n"
          ]
        }
      ]
    },
    {
      "cell_type": "code",
      "source": [
        "# Lasso Regression\n",
        "classo_model = Lasso()\n",
        "classo_model.fit(cX_train, cy_train)\n",
        "cy_pred_lasso = classo_model.predict(cX_test)\n",
        "mse_classo = mean_squared_error(cy_test, cy_pred_lasso)\n",
        "r2_classo = r2_score(cy_test, cy_pred_lasso)\n",
        "print(\"Lasso Regression - MSE:\", mse_classo, \"R2:\", r2_classo)"
      ],
      "metadata": {
        "colab": {
          "base_uri": "https://localhost:8080/"
        },
        "id": "jXNg_q7HZZC6",
        "outputId": "dd6c9a78-beba-42e7-b93e-af5c8dd433e1"
      },
      "execution_count": 39,
      "outputs": [
        {
          "output_type": "stream",
          "name": "stdout",
          "text": [
            "Lasso Regression - MSE: 0.42722916909266645 R2: -0.015586805973365259\n"
          ]
        }
      ]
    },
    {
      "cell_type": "code",
      "source": [
        "# Random Forest Regressor\n",
        "crf_model = RandomForestRegressor()\n",
        "crf_model.fit(cX_train, cy_train)\n",
        "cy_pred_rf = crf_model.predict(cX_test)\n",
        "mse_crf = mean_squared_error(cy_test, cy_pred_rf)\n",
        "r2_crf = r2_score(cy_test, cy_pred_rf)\n",
        "print(\"Random Forest Regression - MSE:\", mse_crf, \"R2:\", r2_crf)"
      ],
      "metadata": {
        "colab": {
          "base_uri": "https://localhost:8080/"
        },
        "id": "3VYmCKdOZiku",
        "outputId": "17ea789d-f0d3-43e6-bd22-c60cc50cb4ff"
      },
      "execution_count": 40,
      "outputs": [
        {
          "output_type": "stream",
          "name": "stdout",
          "text": [
            "Random Forest Regression - MSE: 0.29821779524564324 R2: 0.29109227536790705\n"
          ]
        }
      ]
    },
    {
      "cell_type": "code",
      "source": [
        "# Support Vector Machine Regressor\n",
        "csvm_model = SVR()\n",
        "csvm_model.fit(cX_train, cy_train)\n",
        "cy_pred_svm = csvm_model.predict(cX_test)\n",
        "mse_csvm = mean_squared_error(cy_test, cy_pred_svm)\n",
        "r2_csvm = r2_score(cy_test, cy_pred_svm)\n",
        "print(\"SVM Regression - MSE:\", mse_csvm, \"R2:\", r2_csvm)"
      ],
      "metadata": {
        "colab": {
          "base_uri": "https://localhost:8080/"
        },
        "id": "0eU0hytfYldT",
        "outputId": "230879f7-e7d7-452f-c894-ea1ec6a98541"
      },
      "execution_count": 35,
      "outputs": [
        {
          "output_type": "stream",
          "name": "stdout",
          "text": [
            "SVM Regression - MSE: 0.2632987161992788 R2: 0.37410008129919337\n"
          ]
        }
      ]
    },
    {
      "cell_type": "code",
      "source": [
        "predicted_pValues_cacna1c = csvm_model.predict(X_p2x)\n",
        "\n",
        "df_p2x_purinoceptor_7.loc[:, 'Predicted pValue for CACNA1C'] = predicted_pValues_cacna1c"
      ],
      "metadata": {
        "id": "jmqTnozAZ7KO"
      },
      "execution_count": 58,
      "outputs": []
    },
    {
      "cell_type": "code",
      "source": [
        "sorted_df_desc = df_p2x_purinoceptor_7.sort_values(by='pValue', ascending=False)\n",
        "\n",
        "print(sorted_df_desc[['Smiles', 'pValue', 'Predicted pValue for AA2A', 'Predicted pValue for CACNA1C']])"
      ],
      "metadata": {
        "colab": {
          "base_uri": "https://localhost:8080/"
        },
        "id": "qLNKvjOH2wSE",
        "outputId": "f796ddd9-71eb-45d4-cedf-90956c1d244b"
      },
      "execution_count": 59,
      "outputs": [
        {
          "output_type": "stream",
          "name": "stdout",
          "text": [
            "                                                 Smiles    pValue  \\\n",
            "546   C[C@H]1Cn2c(nnc2-c2ncccn2)C(=O)N1Cc1cccc(C(F)(...  9.397940   \n",
            "1064  C[C@H]1Cn2c(nnc2-c2cscn2)C(=O)N1Cc1cccc(C(F)(F...  9.397940   \n",
            "166   CN1CCc2c(cccc2C(=O)NCC2(N3CCN(c4ccccc4)CC3)CCC...  9.100015   \n",
            "1044  C[C@H]1Cc2c(nnn2-c2ncccn2)CN1C(=O)c1cccc(C(F)(...  9.000000   \n",
            "180   Cc1nc2c(c(-c3ccn[nH]3)n1)C[C@H](C)N(C(=O)c1ccc...  9.000000   \n",
            "...                                                 ...       ...   \n",
            "855        C[C@H]1Cn2c(nnc2-c2cnccn2)C(=O)N1Cc1ccccc1Cl  4.383000   \n",
            "901   C[C@@H]1Cc2c(nnn2-c2ncc(F)cn2)CN1C(=O)c1ccc(F)...  4.335000   \n",
            "122   Cc1nc(/N=N/c2ccc(S(=O)(=O)O)cc2S(=O)(=O)O)c(CO...  4.207608   \n",
            "564   O=C1CSC(=O)N1C(CCc1ccncc1)COc1ccc(-c2cccc([N+]...  4.000000   \n",
            "453   CN([C@@H](Cc1ccc(OS(=O)(=O)c2cccc3cnccc23)cc1)...  4.000000   \n",
            "\n",
            "      Predicted pValue for AA2A  Predicted pValue for CACNA1C  \n",
            "546                    5.943103                      5.402726  \n",
            "1064                   5.918187                      5.410048  \n",
            "166                    5.786373                      4.985414  \n",
            "1044                   6.172140                      5.328379  \n",
            "180                    6.115484                      4.866874  \n",
            "...                         ...                           ...  \n",
            "855                    5.918989                      5.216782  \n",
            "901                    6.081008                      5.338561  \n",
            "122                    5.562717                      4.807278  \n",
            "564                    5.492262                      5.515486  \n",
            "453                    6.620041                      5.076931  \n",
            "\n",
            "[1103 rows x 4 columns]\n"
          ]
        }
      ]
    },
    {
      "cell_type": "code",
      "source": [
        "df_p2x_purinoceptor_7.loc[:, 'Specificity to p2rx7 over Aa2a'] = df_p2x_purinoceptor_7['pValue'] - df_p2x_purinoceptor_7['Predicted pValue for AA2A']\n",
        "df_p2x_purinoceptor_7.loc[:, 'Specificity to p2rx7 over Cacna1c'] = df_p2x_purinoceptor_7['pValue'] - df_p2x_purinoceptor_7['Predicted pValue for CACNA1C']"
      ],
      "metadata": {
        "id": "bYanSZt_3ehl"
      },
      "execution_count": 61,
      "outputs": []
    },
    {
      "cell_type": "code",
      "source": [
        "# Sorting the DataFrame by 'Difference in pValue' in descending order\n",
        "sorted_difference_df_aa2a = df_p2x_purinoceptor_7.sort_values(by='Specificity to p2rx7 over Aa2a', ascending=False)\n",
        "sorted_difference_df_cacna1c = df_p2x_purinoceptor_7.sort_values(by='Specificity to p2rx7 over Cacna1c', ascending=False)\n",
        "\n",
        "print(sorted_difference_df_aa2a[['Smiles', 'pValue', 'Predicted pValue for AA2A', 'Predicted pValue for CACNA1C', 'Specificity to p2rx7 over Aa2a']].head())\n",
        "print(sorted_difference_df_cacna1c[['Smiles', 'pValue', 'Predicted pValue for AA2A', 'Predicted pValue for CACNA1C', 'Specificity to p2rx7 over Cacna1c']].head())"
      ],
      "metadata": {
        "colab": {
          "base_uri": "https://localhost:8080/"
        },
        "id": "XziCVP8h3z0C",
        "outputId": "a0312c16-aeb0-473f-a223-8c963b1538e9"
      },
      "execution_count": 62,
      "outputs": [
        {
          "output_type": "stream",
          "name": "stdout",
          "text": [
            "                                                 Smiles    pValue  \\\n",
            "1064  C[C@H]1Cn2c(nnc2-c2cscn2)C(=O)N1Cc1cccc(C(F)(F...  9.397940   \n",
            "546   C[C@H]1Cn2c(nnc2-c2ncccn2)C(=O)N1Cc1cccc(C(F)(...  9.397940   \n",
            "166   CN1CCc2c(cccc2C(=O)NCC2(N3CCN(c4ccccc4)CC3)CCC...  9.100015   \n",
            "1100    O=C(NCC12CC3CC(CC(C3)C1)C2)c1cc(CCCNCCCO)ccc1Cl  8.356547   \n",
            "70    C[C@H]1Cn2c(nnc2-c2cnccn2)C(=O)N1Cc1cccc(C(F)(...  8.958607   \n",
            "\n",
            "      Predicted pValue for AA2A  Predicted pValue for CACNA1C  \\\n",
            "1064                   5.918187                      5.410048   \n",
            "546                    5.943103                      5.402726   \n",
            "166                    5.786373                      4.985414   \n",
            "1100                   5.075548                      4.924644   \n",
            "70                     5.879186                      5.404525   \n",
            "\n",
            "      Specificity to p2rx7 over Aa2a  \n",
            "1064                        3.479753  \n",
            "546                         3.454837  \n",
            "166                         3.313643  \n",
            "1100                        3.281000  \n",
            "70                          3.079422  \n",
            "                                                 Smiles    pValue  \\\n",
            "809   Cc1cc(-c2nnc3n2C[C@H](C)N(Cc2cccc(C(F)(F)F)c2C...  9.000000   \n",
            "180   Cc1nc2c(c(-c3ccn[nH]3)n1)C[C@H](C)N(C(=O)c1ccc...  9.000000   \n",
            "166   CN1CCc2c(cccc2C(=O)NCC2(N3CCN(c4ccccc4)CC3)CCC...  9.100015   \n",
            "546   C[C@H]1Cn2c(nnc2-c2ncccn2)C(=O)N1Cc1cccc(C(F)(...  9.397940   \n",
            "1064  C[C@H]1Cn2c(nnc2-c2cscn2)C(=O)N1Cc1cccc(C(F)(F...  9.397940   \n",
            "\n",
            "      Predicted pValue for AA2A  Predicted pValue for CACNA1C  \\\n",
            "809                    6.708614                      4.726206   \n",
            "180                    6.115484                      4.866874   \n",
            "166                    5.786373                      4.985414   \n",
            "546                    5.943103                      5.402726   \n",
            "1064                   5.918187                      5.410048   \n",
            "\n",
            "      Specificity to p2rx7 over Cacna1c  \n",
            "809                            4.273794  \n",
            "180                            4.133126  \n",
            "166                            4.114601  \n",
            "546                            3.995214  \n",
            "1064                           3.987892  \n"
          ]
        }
      ]
    },
    {
      "cell_type": "code",
      "source": [
        "!pip install rdkit-pypi"
      ],
      "metadata": {
        "colab": {
          "base_uri": "https://localhost:8080/"
        },
        "id": "trerpN4NipJG",
        "outputId": "ec764b81-bddb-4613-c9fb-5458d0e1e959"
      },
      "execution_count": 63,
      "outputs": [
        {
          "output_type": "stream",
          "name": "stdout",
          "text": [
            "Collecting rdkit-pypi\n",
            "  Downloading rdkit_pypi-2022.9.5-cp310-cp310-manylinux_2_17_x86_64.manylinux2014_x86_64.whl (29.4 MB)\n",
            "\u001b[2K     \u001b[90m━━━━━━━━━━━━━━━━━━━━━━━━━━━━━━━━━━━━━━━━\u001b[0m \u001b[32m29.4/29.4 MB\u001b[0m \u001b[31m33.0 MB/s\u001b[0m eta \u001b[36m0:00:00\u001b[0m\n",
            "\u001b[?25hRequirement already satisfied: numpy in /usr/local/lib/python3.10/dist-packages (from rdkit-pypi) (1.25.2)\n",
            "Requirement already satisfied: Pillow in /usr/local/lib/python3.10/dist-packages (from rdkit-pypi) (9.4.0)\n",
            "Installing collected packages: rdkit-pypi\n",
            "Successfully installed rdkit-pypi-2022.9.5\n"
          ]
        }
      ]
    },
    {
      "cell_type": "code",
      "source": [
        "# Printing molecules with best specificities to P2RX7\n",
        "\n",
        "from rdkit import Chem\n",
        "from rdkit.Chem import Draw, rdMolDescriptors\n",
        "\n",
        "indices = [1064, 546, 166]\n",
        "\n",
        "valid_indices = [idx for idx in indices if idx in df_p2x_purinoceptor_7.index]\n",
        "\n",
        "for idx in valid_indices:\n",
        "    row = df_p2x_purinoceptor_7.loc[idx]\n",
        "    smiles = row['Smiles']\n",
        "    pvalue = row['pValue']\n",
        "    predicted_pvalue_aa2a = row['Predicted pValue for AA2A']\n",
        "    predicted_pvalue_cacna1c = row.get('Predicted pValue for CACNA1C')\n",
        "\n",
        "    mol = Chem.MolFromSmiles(smiles)\n",
        "    if mol is not None:\n",
        "        formula = Chem.rdMolDescriptors.CalcMolFormula(mol)\n",
        "        print(f\"SMILES: {smiles} -> Molecular Formula: {formula}\")\n",
        "    else:\n",
        "        print(f\"SMILES: {smiles} -> Error: Invalid SMILES string\")\n",
        "\n",
        "    print(f\"pValue (P2RX7): {pvalue}\")\n",
        "    print(f\"Predicted pValue for AA2A: {predicted_pvalue_aa2a}\")\n",
        "    print(f\"Predicted pValue for CACNA1C: {predicted_pvalue_cacna1c}\")\n",
        "\n",
        "    display(Draw.MolToImage(mol))\n",
        "\n",
        "    print(\"\\n---\\n\")"
      ],
      "metadata": {
        "colab": {
          "base_uri": "https://localhost:8080/",
          "height": 1000
        },
        "id": "blIPGd7wiM07",
        "outputId": "730909f8-2d25-4b16-e1cb-788af800ab7b"
      },
      "execution_count": 68,
      "outputs": [
        {
          "output_type": "stream",
          "name": "stdout",
          "text": [
            "SMILES: C[C@H]1Cn2c(nnc2-c2cscn2)C(=O)N1Cc1cccc(C(F)(F)F)c1Cl -> Molecular Formula: C17H13ClF3N5OS\n",
            "pValue (P2RX7): 9.397940008672036\n",
            "Predicted pValue for AA2A: 5.9181874115946345\n",
            "Predicted pValue for CACNA1C: 5.410048302797032\n"
          ]
        },
        {
          "output_type": "display_data",
          "data": {
            "text/plain": [
              "<PIL.PngImagePlugin.PngImageFile image mode=RGB size=300x300>"
            ],
            "image/png": "[encoded data removed]"
          },
          "metadata": {}
        },
        {
          "output_type": "stream",
          "name": "stdout",
          "text": [
            "\n",
            "---\n",
            "\n",
            "SMILES: C[C@H]1Cn2c(nnc2-c2ncccn2)C(=O)N1Cc1cccc(C(F)(F)F)c1Cl -> Molecular Formula: C18H14ClF3N6O\n",
            "pValue (P2RX7): 9.397940008672036\n",
            "Predicted pValue for AA2A: 5.94310298787252\n",
            "Predicted pValue for CACNA1C: 5.4027255759793364\n"
          ]
        },
        {
          "output_type": "display_data",
          "data": {
            "text/plain": [
              "<PIL.PngImagePlugin.PngImageFile image mode=RGB size=300x300>"
            ],
            "image/png": "[encoded data removed]"
          },
          "metadata": {}
        },
        {
          "output_type": "stream",
          "name": "stdout",
          "text": [
            "\n",
            "---\n",
            "\n",
            "SMILES: CN1CCc2c(cccc2C(=O)NCC2(N3CCN(c4ccccc4)CC3)CCCCC2)C1 -> Molecular Formula: C28H38N4O\n",
            "pValue (P2RX7): 9.100015437450608\n",
            "Predicted pValue for AA2A: 5.786372572255042\n",
            "Predicted pValue for CACNA1C: 4.985414150898903\n"
          ]
        },
        {
          "output_type": "display_data",
          "data": {
            "text/plain": [
              "<PIL.PngImagePlugin.PngImageFile image mode=RGB size=300x300>"
            ],
            "image/png": "[encoded data removed]"
          },
          "metadata": {}
        },
        {
          "output_type": "stream",
          "name": "stdout",
          "text": [
            "\n",
            "---\n",
            "\n"
          ]
        }
      ]
    }
  ]
}