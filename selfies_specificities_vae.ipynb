{
  "cells": [
    {
      "cell_type": "code",
      "execution_count": 1,
      "metadata": {
        "id": "pRF2j6q4TfX-"
      },
      "outputs": [],
      "source": [
        "import pandas as pd\n",
        "\n",
        "df = pd.read_csv('Processed_Specificities_Data.csv')"
      ]
    },
    {
      "cell_type": "code",
      "execution_count": 2,
      "metadata": {
        "colab": {
          "base_uri": "https://localhost:8080/"
        },
        "id": "n5-UTxdRTmqw",
        "outputId": "bf899f9e-b7dc-4898-d409-c25c30c68ef1"
      },
      "outputs": [
        {
          "output_type": "stream",
          "name": "stdout",
          "text": [
            "   Molecular Weight  AlogP                                             Smiles  \\\n",
            "0            497.60   4.39  COc1ccc(CC(=O)N2CCN(/C(=N/C#N)Nc3ccccc3C)CC2c2...   \n",
            "1            438.81   4.65  O=C(c1cccc(C(F)(F)F)c1Cl)N1CCc2c(ncn2-c2ccccn2...   \n",
            "2            473.80   5.76  O=C(c1cccc(C(F)(F)F)c1Cl)N1CCc2c(nc(C(F)(F)F)n...   \n",
            "3            438.81   4.84  C[C@H]1c2ncn(-c3ccc(F)cn3)c2CCN1C(=O)c1cccc(C(...   \n",
            "4            437.82   5.44  C[C@H]1c2ncn(-c3ccc(F)cc3)c2CCN1C(=O)c1cccc(C(...   \n",
            "\n",
            "     pValue  Target Name_Adenosine A2a receptor  \\\n",
            "0  6.853872                               False   \n",
            "1  7.183759                               False   \n",
            "2  6.897909                               False   \n",
            "3  5.000000                               False   \n",
            "4  5.690008                               False   \n",
            "\n",
            "   Target Name_P2X purinoceptor 7  \\\n",
            "0                            True   \n",
            "1                            True   \n",
            "2                            True   \n",
            "3                            True   \n",
            "4                            True   \n",
            "\n",
            "   Target Name_Voltage-gated L-type calcium channel alpha-1C subunit  \n",
            "0                                              False                  \n",
            "1                                              False                  \n",
            "2                                              False                  \n",
            "3                                              False                  \n",
            "4                                              False                  \n"
          ]
        }
      ],
      "source": [
        "df = df[df['Target Name'] != 'P2X purinoceptor 4']\n",
        "df = df.dropna()\n",
        "\n",
        "df = pd.get_dummies(df, columns=['Target Name'])\n",
        "\n",
        "print(df.head())"
      ]
    },
    {
      "cell_type": "code",
      "execution_count": 3,
      "metadata": {
        "colab": {
          "base_uri": "https://localhost:8080/"
        },
        "id": "KW_yaRdbTpqO",
        "outputId": "31cd89f9-a945-40d0-e5c0-2178a963f032"
      },
      "outputs": [
        {
          "output_type": "stream",
          "name": "stdout",
          "text": [
            "(4727, 7)\n"
          ]
        }
      ],
      "source": [
        "print(df.shape)"
      ]
    },
    {
      "cell_type": "code",
      "source": [
        "df.reset_index(drop=True, inplace=True)"
      ],
      "metadata": {
        "id": "_9_xpmiLh3_b"
      },
      "execution_count": 4,
      "outputs": []
    },
    {
      "cell_type": "code",
      "execution_count": 5,
      "metadata": {
        "colab": {
          "base_uri": "https://localhost:8080/"
        },
        "id": "y0A1dAScTvQS",
        "outputId": "cac38a83-a968-4245-99c5-0c0acbeca3df"
      },
      "outputs": [
        {
          "output_type": "stream",
          "name": "stdout",
          "text": [
            "Counts for each target:\n",
            "P2X purinoceptor 7: 1103\n",
            "Adenosine A2a receptor: 2503\n",
            "Voltage-gated L-type calcium channel alpha-1C subunit: 1121\n"
          ]
        }
      ],
      "source": [
        "print(\"Counts for each target:\")\n",
        "print(\"P2X purinoceptor 7:\", df['Target Name_P2X purinoceptor 7'].sum())\n",
        "print(\"Adenosine A2a receptor:\", df['Target Name_Adenosine A2a receptor'].sum())\n",
        "print(\"Voltage-gated L-type calcium channel alpha-1C subunit:\", df['Target Name_Voltage-gated L-type calcium channel alpha-1C subunit'].sum())"
      ]
    },
    {
      "cell_type": "code",
      "execution_count": 6,
      "metadata": {
        "colab": {
          "base_uri": "https://localhost:8080/"
        },
        "id": "D5TaBmqZVhzp",
        "outputId": "805da34f-d773-4691-dc8e-dc5065d940db"
      },
      "outputs": [
        {
          "output_type": "stream",
          "name": "stdout",
          "text": [
            "Requirement already satisfied: selfies in /usr/local/lib/python3.10/dist-packages (2.1.1)\n"
          ]
        }
      ],
      "source": [
        "!pip install selfies"
      ]
    },
    {
      "cell_type": "code",
      "execution_count": 7,
      "metadata": {
        "id": "b936amO_dICF"
      },
      "outputs": [],
      "source": [
        "import pandas as pd\n",
        "import numpy as np\n",
        "import selfies as sf\n",
        "from sklearn.preprocessing import StandardScaler\n",
        "from tensorflow.keras.models import Model\n",
        "from tensorflow.keras.layers import Input, Dense, Lambda, Layer\n",
        "from tensorflow.keras.optimizers import Adam\n",
        "from tensorflow.keras.losses import mse\n",
        "import tensorflow as tf"
      ]
    },
    {
      "cell_type": "code",
      "execution_count": 8,
      "metadata": {
        "id": "dqQgzaMAdJzr"
      },
      "outputs": [],
      "source": [
        "def smiles_to_selfies(smiles):\n",
        "    return sf.encoder(smiles)\n",
        "\n",
        "df['Selfies'] = df['Smiles'].apply(smiles_to_selfies)"
      ]
    },
    {
      "cell_type": "code",
      "execution_count": 9,
      "metadata": {
        "colab": {
          "base_uri": "https://localhost:8080/"
        },
        "id": "7IMmTKT1dNT7",
        "outputId": "a8e0979c-5207-4650-d49e-329ed4524f55"
      },
      "outputs": [
        {
          "output_type": "stream",
          "name": "stdout",
          "text": [
            "0       [C][O][C][=C][C][=C][Branch2][Ring2][=Branch2]...\n",
            "1       [O][=C][Branch2][Ring1][Ring2][C][=C][C][=C][C...\n",
            "2       [O][=C][Branch2][Ring1][Ring2][C][=C][C][=C][C...\n",
            "3       [C][C@H1][C][N][=C][N][Branch1][N][C][=C][C][=...\n",
            "4       [C][C@H1][C][N][=C][N][Branch1][N][C][=C][C][=...\n",
            "                              ...                        \n",
            "4722    [C][C][C][Branch1][=Branch1][C][=Branch1][C][=...\n",
            "4723    [C][C][Branch1][C][N][C][Branch1][C][O][C][=C]...\n",
            "4724    [C][C][C][C][O][C@@H1][C][C@H1][C@@H1][C][C][C...\n",
            "4725            [N][C][C][C][C][C][C][=Branch1][C][=O][O]\n",
            "4726    [C][C][Branch1][#Branch2][C][N+1][Branch1][C][...\n",
            "Name: Selfies, Length: 4727, dtype: object\n"
          ]
        }
      ],
      "source": [
        "print(df['Selfies'])"
      ]
    },
    {
      "cell_type": "code",
      "source": [
        "selfies_list = df['Selfies'].tolist()\n",
        "dot_count = sum(1 for selfie in selfies_list if '.' in selfie)\n",
        "\n",
        "print(f\"Number of SELFIES containing the '.' symbol: {dot_count}\")"
      ],
      "metadata": {
        "colab": {
          "base_uri": "https://localhost:8080/"
        },
        "id": "41-rirtWUr-l",
        "outputId": "468e090c-7706-4d42-bf3b-fff5cd3199a5"
      },
      "execution_count": 10,
      "outputs": [
        {
          "output_type": "stream",
          "name": "stdout",
          "text": [
            "Number of SELFIES containing the '.' symbol: 37\n"
          ]
        }
      ]
    },
    {
      "cell_type": "code",
      "source": [
        "df = df[~df['Selfies'].str.contains('\\.')]\n",
        "df.reset_index(drop=True, inplace=True)\n",
        "\n",
        "print(f\"Number of rows after removing entries with '.': {df.shape[0]}\")"
      ],
      "metadata": {
        "colab": {
          "base_uri": "https://localhost:8080/"
        },
        "id": "ar7juA8OU_sO",
        "outputId": "16723c29-0e01-4eba-d9b6-a1c3204c80b3"
      },
      "execution_count": 11,
      "outputs": [
        {
          "output_type": "stream",
          "name": "stdout",
          "text": [
            "Number of rows after removing entries with '.': 4690\n"
          ]
        }
      ]
    },
    {
      "cell_type": "code",
      "source": [
        "print(df['Selfies'])"
      ],
      "metadata": {
        "colab": {
          "base_uri": "https://localhost:8080/"
        },
        "id": "F4fV_Jt5VJm6",
        "outputId": "9984581e-9262-4723-bd32-5f40bae9ab31"
      },
      "execution_count": 12,
      "outputs": [
        {
          "output_type": "stream",
          "name": "stdout",
          "text": [
            "0       [C][O][C][=C][C][=C][Branch2][Ring2][=Branch2]...\n",
            "1       [O][=C][Branch2][Ring1][Ring2][C][=C][C][=C][C...\n",
            "2       [O][=C][Branch2][Ring1][Ring2][C][=C][C][=C][C...\n",
            "3       [C][C@H1][C][N][=C][N][Branch1][N][C][=C][C][=...\n",
            "4       [C][C@H1][C][N][=C][N][Branch1][N][C][=C][C][=...\n",
            "                              ...                        \n",
            "4685    [C][C][C][Branch1][=Branch1][C][=Branch1][C][=...\n",
            "4686    [C][C][Branch1][C][N][C][Branch1][C][O][C][=C]...\n",
            "4687    [C][C][C][C][O][C@@H1][C][C@H1][C@@H1][C][C][C...\n",
            "4688            [N][C][C][C][C][C][C][=Branch1][C][=O][O]\n",
            "4689    [C][C][Branch1][#Branch2][C][N+1][Branch1][C][...\n",
            "Name: Selfies, Length: 4690, dtype: object\n"
          ]
        }
      ]
    },
    {
      "cell_type": "code",
      "execution_count": 13,
      "metadata": {
        "id": "P15itG91dQSF"
      },
      "outputs": [],
      "source": [
        "import torch\n",
        "from torch.utils.data import DataLoader, TensorDataset\n",
        "\n",
        "def get_selfies_alphabet(selfies_list):\n",
        "    alphabet = set()\n",
        "    for s in selfies_list:\n",
        "        alphabet.update(sf.split_selfies(s))\n",
        "    alphabet = sorted(list(alphabet))  # Sorting to ensure consistent ordering\n",
        "    return alphabet\n",
        "\n",
        "def selfies_to_one_hot(selfies_list, alphabet):\n",
        "    max_length = max(sf.len_selfies(s) for s in selfies_list)\n",
        "    alphabet_index = {symbol: idx for idx, symbol in enumerate(alphabet)}\n",
        "    one_hot_encoded = torch.zeros((len(selfies_list), max_length, len(alphabet)), dtype=torch.float32)\n",
        "\n",
        "    for i, selfie in enumerate(selfies_list):\n",
        "        symbols = sf.split_selfies(selfie)\n",
        "        for j, symbol in enumerate(symbols):\n",
        "            symbol_idx = alphabet_index[symbol]\n",
        "            one_hot_encoded[i, j, symbol_idx] = 1\n",
        "    return one_hot_encoded\n",
        "\n",
        "selfies_list = df['Selfies'].tolist()\n",
        "alphabet = get_selfies_alphabet(selfies_list)\n",
        "encoded_selfies = selfies_to_one_hot(selfies_list, alphabet)"
      ]
    },
    {
      "cell_type": "code",
      "source": [
        "print(len(alphabet))"
      ],
      "metadata": {
        "colab": {
          "base_uri": "https://localhost:8080/"
        },
        "id": "4sjpWHXAOVCR",
        "outputId": "a0869717-7ea5-414e-eae2-7e6bd0d35531"
      },
      "execution_count": 14,
      "outputs": [
        {
          "output_type": "stream",
          "name": "stdout",
          "text": [
            "56\n"
          ]
        }
      ]
    },
    {
      "cell_type": "code",
      "execution_count": 15,
      "metadata": {
        "colab": {
          "base_uri": "https://localhost:8080/"
        },
        "id": "Oq61RUiEdTGS",
        "outputId": "9835673b-6915-4768-e8d3-39d1bf9feaf6"
      },
      "outputs": [
        {
          "output_type": "stream",
          "name": "stdout",
          "text": [
            "torch.Size([4690, 113, 56])\n"
          ]
        }
      ],
      "source": [
        "print(encoded_selfies.shape)"
      ]
    },
    {
      "cell_type": "code",
      "execution_count": 16,
      "metadata": {
        "id": "0vTfjmVXuiHt"
      },
      "outputs": [],
      "source": [
        "df_p2rx7 = df[df['Target Name_P2X purinoceptor 7'] == True]\n",
        "df_aa2a = df[df['Target Name_Adenosine A2a receptor'] == True]\n",
        "df_cacna1c = df[df['Target Name_Voltage-gated L-type calcium channel alpha-1C subunit'] == True]"
      ]
    },
    {
      "cell_type": "code",
      "execution_count": 18,
      "metadata": {
        "id": "V88SSyvjv2bQ"
      },
      "outputs": [],
      "source": [
        "def prepare_inputs(encoded_selfies, df):\n",
        "    # Flattening the SELFIES encoding for concatenation\n",
        "    selfies_flattened = encoded_selfies.view(encoded_selfies.size(0), -1)  # Flattening each SELFIES encoding\n",
        "    targets = torch.tensor(df['pValue'].values, dtype=torch.float32)\n",
        "    return selfies_flattened, targets\n",
        "\n",
        "# Extracting and preparing features and targets\n",
        "features_p2rx7, targets_p2rx7 = prepare_inputs(encoded_selfies[df_p2rx7.index], df_p2rx7)\n",
        "features_aa2a, targets_aa2a = prepare_inputs(encoded_selfies[df_aa2a.index], df_aa2a)\n",
        "features_cacna1c, targets_cacna1c = prepare_inputs(encoded_selfies[df_cacna1c.index], df_cacna1c)"
      ]
    },
    {
      "cell_type": "code",
      "execution_count": 19,
      "metadata": {
        "colab": {
          "base_uri": "https://localhost:8080/"
        },
        "id": "hf-OYo_3wgVS",
        "outputId": "2cad08f9-92f8-48b5-8754-d32a99f252df"
      },
      "outputs": [
        {
          "output_type": "stream",
          "name": "stdout",
          "text": [
            "Requirement already satisfied: rdkit-pypi in /usr/local/lib/python3.10/dist-packages (2022.9.5)\n",
            "Requirement already satisfied: numpy in /usr/local/lib/python3.10/dist-packages (from rdkit-pypi) (1.25.2)\n",
            "Requirement already satisfied: Pillow in /usr/local/lib/python3.10/dist-packages (from rdkit-pypi) (9.4.0)\n"
          ]
        }
      ],
      "source": [
        "!pip install rdkit-pypi"
      ]
    },
    {
      "cell_type": "code",
      "execution_count": 21,
      "metadata": {
        "id": "KBNuC9YMx7cq"
      },
      "outputs": [],
      "source": [
        "from sklearn.model_selection import train_test_split\n",
        "\n",
        "def split_data(features, targets):\n",
        "    features_train, features_val, targets_train, targets_val = train_test_split(\n",
        "        features, targets, test_size=0.2, random_state=42)\n",
        "    return features_train, features_val, targets_train, targets_val\n",
        "\n",
        "features_p2rx7_train, features_p2rx7_val, targets_p2rx7_train, targets_p2rx7_val = split_data(features_p2rx7, targets_p2rx7)\n",
        "features_aa2a_train, features_aa2a_val, targets_aa2a_train, targets_aa2a_val = split_data(features_aa2a, targets_aa2a)\n",
        "features_cacna1c_train, features_cacna1c_val, targets_cacna1c_train, targets_cacna1c_val = split_data(features_cacna1c, targets_cacna1c)"
      ]
    },
    {
      "cell_type": "code",
      "execution_count": 23,
      "metadata": {
        "colab": {
          "base_uri": "https://localhost:8080/"
        },
        "id": "xwGXUuAOwO27",
        "outputId": "dfb74a57-11d7-43be-bb07-304ac77303f3"
      },
      "outputs": [
        {
          "output_type": "stream",
          "name": "stdout",
          "text": [
            "Mean Squared Error for p2rx7 (MLP Regressor): 1.7587276093586592\n",
            "Mean Squared Error for aa2a (MLP Regressor): 1.2656520764209773\n",
            "Mean Squared Error for cacna1c (MLP Regressor): 0.6871710577066729\n"
          ]
        }
      ],
      "source": [
        "from sklearn.neural_network import MLPRegressor\n",
        "from sklearn.metrics import mean_squared_error\n",
        "\n",
        "# Initializing MLP Regressor\n",
        "mlp_p2rx7 = MLPRegressor(hidden_layer_sizes=(500,), max_iter=1000, random_state=42)\n",
        "mlp_aa2a = MLPRegressor(hidden_layer_sizes=(500,), max_iter=1000, random_state=42)\n",
        "mlp_cacna1c = MLPRegressor(hidden_layer_sizes=(500,), max_iter=1000, random_state=42)\n",
        "\n",
        "# Training MLP Regressor for each target\n",
        "mlp_p2rx7.fit(features_p2rx7_train, targets_p2rx7_train)\n",
        "y_pred_p2rx7_mlp = mlp_p2rx7.predict(features_p2rx7_val)\n",
        "mse_p2rx7_mlp = mean_squared_error(targets_p2rx7_val, y_pred_p2rx7_mlp)\n",
        "\n",
        "mlp_aa2a.fit(features_aa2a_train, targets_aa2a_train)\n",
        "y_pred_aa2a_mlp = mlp_aa2a.predict(features_aa2a_val)\n",
        "mse_aa2a_mlp = mean_squared_error(targets_aa2a_val, y_pred_aa2a_mlp)\n",
        "\n",
        "mlp_cacna1c.fit(features_cacna1c_train, targets_cacna1c_train)\n",
        "y_pred_cacna1c_mlp = mlp_cacna1c.predict(features_cacna1c_val)\n",
        "mse_cacna1c_mlp = mean_squared_error(targets_cacna1c_val, y_pred_cacna1c_mlp)\n",
        "\n",
        "# Printing MSE for MLP Regressor for each target\n",
        "print(\"Mean Squared Error for p2rx7 (MLP Regressor):\", mse_p2rx7_mlp)\n",
        "print(\"Mean Squared Error for aa2a (MLP Regressor):\", mse_aa2a_mlp)\n",
        "print(\"Mean Squared Error for cacna1c (MLP Regressor):\", mse_cacna1c_mlp)"
      ]
    },
    {
      "cell_type": "code",
      "source": [
        "from sklearn.ensemble import RandomForestRegressor\n",
        "\n",
        "# Initializing and training Random Forest Regressor for each target\n",
        "rf_p2rx7 = RandomForestRegressor(n_estimators=200, random_state=42)\n",
        "rf_p2rx7.fit(features_p2rx7_train, targets_p2rx7_train)\n",
        "y_pred_p2rx7_rf = rf_p2rx7.predict(features_p2rx7_val)\n",
        "mse_p2rx7_rf = mean_squared_error(targets_p2rx7_val, y_pred_p2rx7_rf)\n",
        "\n",
        "rf_aa2a = RandomForestRegressor(n_estimators=400, random_state=42)\n",
        "rf_aa2a.fit(features_aa2a_train, targets_aa2a_train)\n",
        "y_pred_aa2a_rf = rf_aa2a.predict(features_aa2a_val)\n",
        "mse_aa2a_rf = mean_squared_error(targets_aa2a_val, y_pred_aa2a_rf)\n",
        "\n",
        "rf_cacna1c = RandomForestRegressor(n_estimators=200, random_state=42)\n",
        "rf_cacna1c.fit(features_cacna1c_train, targets_cacna1c_train)\n",
        "y_pred_cacna1c_rf = rf_cacna1c.predict(features_cacna1c_val)\n",
        "mse_cacna1c_rf = mean_squared_error(targets_cacna1c_val, y_pred_cacna1c_rf)\n",
        "\n",
        "# Printing MSE for Random Forest Regressor for each target\n",
        "print(\"MSE for p2rx7 (Random Forest):\", mse_p2rx7_rf)\n",
        "print(\"MSE for aa2a (Random Forest):\", mse_aa2a_rf)\n",
        "print(\"MSE for cacna1c (Random Forest):\", mse_cacna1c_rf)"
      ],
      "metadata": {
        "colab": {
          "base_uri": "https://localhost:8080/"
        },
        "id": "l10qyFJS33Sa",
        "outputId": "1190dd68-a1eb-4919-99b0-ec6733c46824"
      },
      "execution_count": 24,
      "outputs": [
        {
          "output_type": "stream",
          "name": "stdout",
          "text": [
            "MSE for p2rx7 (Random Forest): 1.068709210353368\n",
            "MSE for aa2a (Random Forest): 0.6312098781081135\n",
            "MSE for cacna1c (Random Forest): 0.36841849220731954\n"
          ]
        }
      ]
    },
    {
      "cell_type": "code",
      "source": [
        "from xgboost import XGBRegressor\n",
        "\n",
        "# Initializing and training XGBRegressor for each target\n",
        "xgb_p2rx7 = XGBRegressor(n_estimators=400, learning_rate=0.01, random_state=42)\n",
        "xgb_p2rx7.fit(features_p2rx7_train, targets_p2rx7_train)\n",
        "y_pred_p2rx7_xgb = xgb_p2rx7.predict(features_p2rx7_val)\n",
        "mse_p2rx7_xgb = mean_squared_error(targets_p2rx7_val, y_pred_p2rx7_xgb)\n",
        "\n",
        "xgb_aa2a = XGBRegressor(n_estimators=1200, learning_rate=0.01, random_state=42)\n",
        "xgb_aa2a.fit(features_aa2a_train, targets_aa2a_train)\n",
        "y_pred_aa2a_xgb = xgb_aa2a.predict(features_aa2a_val)\n",
        "mse_aa2a_xgb = mean_squared_error(targets_aa2a_val, y_pred_aa2a_xgb)\n",
        "\n",
        "xgb_cacna1c = XGBRegressor(n_estimators=300, learning_rate=0.01, random_state=42)\n",
        "xgb_cacna1c.fit(features_cacna1c_train, targets_cacna1c_train)\n",
        "y_pred_cacna1c_xgb = xgb_cacna1c.predict(features_cacna1c_val)\n",
        "mse_cacna1c_xgb = mean_squared_error(targets_cacna1c_val, y_pred_cacna1c_xgb)\n",
        "\n",
        "# Printing MSE for XGBRegressor for each target\n",
        "print(\"MSE for p2rx7 (XGBoost):\", mse_p2rx7_xgb)\n",
        "print(\"MSE for aa2a (XGBoost):\", mse_aa2a_xgb)\n",
        "print(\"MSE for cacna1c (XGBoost):\", mse_cacna1c_xgb)"
      ],
      "metadata": {
        "colab": {
          "base_uri": "https://localhost:8080/"
        },
        "id": "rr5aa_4r4m5s",
        "outputId": "a3ff97c4-4a7e-4d64-c9d3-0beef9797644"
      },
      "execution_count": 25,
      "outputs": [
        {
          "output_type": "stream",
          "name": "stdout",
          "text": [
            "MSE for p2rx7 (XGBoost): 1.0514318\n",
            "MSE for aa2a (XGBoost): 0.71948457\n",
            "MSE for cacna1c (XGBoost): 0.37437055\n"
          ]
        }
      ]
    },
    {
      "cell_type": "code",
      "source": [
        "from sklearn.svm import SVR\n",
        "\n",
        "# Initialize and train SVR for each target\n",
        "svm_p2rx7 = SVR(kernel='rbf')\n",
        "svm_p2rx7.fit(features_p2rx7_train, targets_p2rx7_train)\n",
        "y_pred_p2rx7_svm = svm_p2rx7.predict(features_p2rx7_val)\n",
        "mse_p2rx7_svm = mean_squared_error(targets_p2rx7_val, y_pred_p2rx7_svm)\n",
        "\n",
        "svm_aa2a = SVR(kernel='rbf')\n",
        "svm_aa2a.fit(features_aa2a_train, targets_aa2a_train)\n",
        "y_pred_aa2a_svm = svm_aa2a.predict(features_aa2a_val)\n",
        "mse_aa2a_svm = mean_squared_error(targets_aa2a_val, y_pred_aa2a_svm)\n",
        "\n",
        "svm_cacna1c = SVR(kernel='rbf')\n",
        "svm_cacna1c.fit(features_cacna1c_train, targets_cacna1c_train)\n",
        "y_pred_cacna1c_svm = svm_cacna1c.predict(features_cacna1c_val)\n",
        "mse_cacna1c_svm = mean_squared_error(targets_cacna1c_val, y_pred_cacna1c_svm)\n",
        "\n",
        "# Printing MSE for SVR for each target\n",
        "print(\"MSE for p2rx7 (SVM):\", mse_p2rx7_svm)\n",
        "print(\"MSE for aa2a (SVM):\", mse_aa2a_svm)\n",
        "print(\"MSE for cacna1c (SVM):\", mse_cacna1c_svm)"
      ],
      "metadata": {
        "colab": {
          "base_uri": "https://localhost:8080/"
        },
        "id": "uChmdhc04pbG",
        "outputId": "6d8aec2c-6e22-4d5e-9c09-a27ef044d519"
      },
      "execution_count": 26,
      "outputs": [
        {
          "output_type": "stream",
          "name": "stdout",
          "text": [
            "MSE for p2rx7 (SVM): 1.108987468889943\n",
            "MSE for aa2a (SVM): 0.6886674418036633\n",
            "MSE for cacna1c (SVM): 0.32660789754160396\n"
          ]
        }
      ]
    },
    {
      "cell_type": "code",
      "source": [
        "from torch.utils.data import TensorDataset, DataLoader\n",
        "\n",
        "# modifying prepare_inputs without targets\n",
        "def prepare_inputs(df, encoded_selfies):\n",
        "    # Assuming encoded_selfies is already a tensor matching the index of df\n",
        "    selfies_flattened = encoded_selfies.view(len(df), -1)  # Flattening each SELFIES encoding\n",
        "    return selfies_flattened"
      ],
      "metadata": {
        "id": "T1ExXAbWxIus"
      },
      "execution_count": 27,
      "outputs": []
    },
    {
      "cell_type": "code",
      "source": [
        "# Extracting and preparing features for the entire dataset\n",
        "features = prepare_inputs(df, encoded_selfies)"
      ],
      "metadata": {
        "id": "ntvZB7BV81U-"
      },
      "execution_count": 28,
      "outputs": []
    },
    {
      "cell_type": "code",
      "source": [
        "dataset = TensorDataset(features)  # Assuming features are the only input\n",
        "data_loader = DataLoader(dataset, batch_size=32, shuffle=True)"
      ],
      "metadata": {
        "id": "uIwKfcnnxLdl"
      },
      "execution_count": 29,
      "outputs": []
    },
    {
      "cell_type": "code",
      "source": [
        "print(features.shape)"
      ],
      "metadata": {
        "colab": {
          "base_uri": "https://localhost:8080/"
        },
        "id": "VcVdeAHq1Ibb",
        "outputId": "9a450c3a-6785-49f3-8655-06bc63704b65"
      },
      "execution_count": 30,
      "outputs": [
        {
          "output_type": "stream",
          "name": "stdout",
          "text": [
            "torch.Size([4690, 6328])\n"
          ]
        }
      ]
    },
    {
      "cell_type": "code",
      "source": [
        "import torch\n",
        "from torch import nn\n",
        "\n",
        "class VAE(nn.Module):\n",
        "    def __init__(self, input_dim, hidden_dim, middle_dim1, middle_dim2, latent_dim):\n",
        "        super(VAE, self).__init__()\n",
        "        self.encoder = nn.Sequential(\n",
        "            nn.Linear(input_dim, hidden_dim),\n",
        "            nn.ReLU(),\n",
        "            nn.Linear(hidden_dim, middle_dim1),\n",
        "            nn.ReLU(),\n",
        "            nn.Linear(middle_dim1, middle_dim2),\n",
        "            nn.ReLU(),\n",
        "            nn.Linear(middle_dim2, latent_dim * 2)\n",
        "        )\n",
        "        self.decoder = nn.Sequential(\n",
        "            nn.Linear(latent_dim, middle_dim2),\n",
        "            nn.ReLU(),\n",
        "            nn.Linear(middle_dim2, middle_dim1),\n",
        "            nn.ReLU(),\n",
        "            nn.Linear(middle_dim1, hidden_dim),\n",
        "            nn.ReLU(),\n",
        "            nn.Linear(hidden_dim, input_dim),\n",
        "            nn.Sigmoid()\n",
        "        )\n",
        "\n",
        "    def reparameterize(self, mu, log_var):\n",
        "        std = torch.exp(0.5 * log_var)\n",
        "        eps = torch.randn_like(std)\n",
        "        return mu + eps * std\n",
        "\n",
        "    def forward(self, x):\n",
        "        x = x.view(x.size(0), -1)\n",
        "        h = self.encoder(x)\n",
        "        mu, log_var = torch.chunk(h, 2, dim=1)\n",
        "        z = self.reparameterize(mu, log_var)\n",
        "        x_recon = self.decoder(z)\n",
        "        return x_recon, mu, log_var\n",
        "\n",
        "input_dim = encoded_selfies.size(1) * encoded_selfies.size(2)\n",
        "hidden_dim = 512\n",
        "middle_dim1 = 256\n",
        "middle_dim2 = 128\n",
        "latent_dim = 10\n",
        "\n",
        "vae = VAE(input_dim, hidden_dim, middle_dim1, middle_dim2, latent_dim).to('cpu')"
      ],
      "metadata": {
        "id": "q4752373Vhqs"
      },
      "execution_count": 59,
      "outputs": []
    },
    {
      "cell_type": "code",
      "source": [
        "def loss_function(recon_x, x, mu, log_var, rf_model_p2rx7, rf_model_aa2a, rf_model_cacna1c):\n",
        "    BCE = nn.functional.binary_cross_entropy(recon_x, x, reduction='sum')\n",
        "    KLD = -0.5 * torch.sum(1 + log_var - mu.pow(2) - log_var.exp())\n",
        "\n",
        "    predicted_properties = recon_x.detach().numpy()\n",
        "    pvalues_p2rx7 = rf_model_p2rx7.predict(predicted_properties)\n",
        "    pvalues_aa2a = rf_model_aa2a.predict(predicted_properties)\n",
        "    pvalues_cacna1c = rf_model_cacna1c.predict(predicted_properties)\n",
        "\n",
        "    # Custom loss components to steer generation\n",
        "    p2rx7_loss = -torch.tensor(pvalues_p2rx7).mean()  # We want to maximize this\n",
        "    aa2a_loss = torch.tensor(pvalues_aa2a).mean()     # We want to minimize this\n",
        "    cacna1c_loss = torch.tensor(pvalues_cacna1c).mean()  # We want to minimize this\n",
        "\n",
        "    return BCE + KLD + 3000*(p2rx7_loss) + 2000*(aa2a_loss) + 1500*(cacna1c_loss)\n",
        "\n",
        "optimizer = torch.optim.Adam(vae.parameters(), lr=1e-2)\n",
        "\n",
        "num_epochs = 40\n",
        "for epoch in range(num_epochs):\n",
        "    vae.train()\n",
        "    train_loss = 0\n",
        "    for batch in data_loader:\n",
        "        batch = batch[0].to('cpu')\n",
        "        optimizer.zero_grad()\n",
        "        recon_batch, mu, log_var = vae(batch)\n",
        "        loss = loss_function(recon_batch, batch, mu, log_var, rf_p2rx7, rf_aa2a, rf_cacna1c)\n",
        "        loss.backward()\n",
        "        train_loss += loss.item()\n",
        "        optimizer.step()\n",
        "    print(f'Epoch {epoch + 1}, Loss: {train_loss / len(data_loader.dataset)}')"
      ],
      "metadata": {
        "id": "M3uBSXG5Vnrx",
        "colab": {
          "base_uri": "https://localhost:8080/"
        },
        "outputId": "08b43c48-cc7e-4841-d972-816791415397"
      },
      "execution_count": 60,
      "outputs": [
        {
          "output_type": "stream",
          "name": "stdout",
          "text": [
            "Epoch 1, Loss: 165.0648185531853\n",
            "Epoch 2, Loss: 93.71423999908933\n",
            "Epoch 3, Loss: 91.2119420208665\n",
            "Epoch 4, Loss: 87.9604132252454\n",
            "Epoch 5, Loss: 87.46194759155863\n",
            "Epoch 6, Loss: 86.63636425780149\n",
            "Epoch 7, Loss: 87.5424417400073\n",
            "Epoch 8, Loss: 87.3180754176209\n",
            "Epoch 9, Loss: 88.09582132320612\n",
            "Epoch 10, Loss: 87.4831589887809\n",
            "Epoch 11, Loss: 87.65701672266495\n",
            "Epoch 12, Loss: 86.53797838997438\n",
            "Epoch 13, Loss: 87.85935447800834\n",
            "Epoch 14, Loss: 86.42556851576123\n",
            "Epoch 15, Loss: 87.870183129688\n",
            "Epoch 16, Loss: 86.22137741122486\n",
            "Epoch 17, Loss: 85.27554038049071\n",
            "Epoch 18, Loss: 85.48588944002604\n",
            "Epoch 19, Loss: 84.67154633173337\n",
            "Epoch 20, Loss: 84.00661681330642\n",
            "Epoch 21, Loss: 85.14616390129692\n",
            "Epoch 22, Loss: 84.83006885170573\n",
            "Epoch 23, Loss: 84.78542881821016\n",
            "Epoch 24, Loss: 84.75699201152334\n",
            "Epoch 25, Loss: 83.61239317988628\n",
            "Epoch 26, Loss: 82.72196821438297\n",
            "Epoch 27, Loss: 85.00980330395757\n",
            "Epoch 28, Loss: 85.16603742121771\n",
            "Epoch 29, Loss: 85.06291548237462\n",
            "Epoch 30, Loss: 83.79059267383894\n",
            "Epoch 31, Loss: 84.38554344537468\n",
            "Epoch 32, Loss: 83.22317406749521\n",
            "Epoch 33, Loss: 84.7251471216534\n",
            "Epoch 34, Loss: 88.55727398163184\n",
            "Epoch 35, Loss: 85.81746383909561\n",
            "Epoch 36, Loss: 84.24978033918117\n",
            "Epoch 37, Loss: 83.98736619173155\n",
            "Epoch 38, Loss: 84.89560916544974\n",
            "Epoch 39, Loss: 85.47823048778845\n",
            "Epoch 40, Loss: 85.03714999933851\n"
          ]
        }
      ]
    },
    {
      "cell_type": "code",
      "source": [
        "def generate_selfies(vae, num_samples, latent_dim):\n",
        "    vae.eval()\n",
        "    with torch.no_grad():\n",
        "        z = torch.randn(num_samples, latent_dim).to('cpu')\n",
        "        generated = vae.decoder(z).cpu().numpy()\n",
        "    return generated\n",
        "\n",
        "num_samples = 10\n",
        "generated_selfies = generate_selfies(vae, num_samples, latent_dim)\n",
        "\n",
        "# Converting generated vectors back to SELFIES\n",
        "def decode_selfies(generated, alphabet):\n",
        "    decoded_selfies = []\n",
        "    for gen in generated:\n",
        "        selfies_str = ''\n",
        "        for i in range(0, len(gen), len(alphabet)):\n",
        "            one_hot = gen[i:i+len(alphabet)]\n",
        "            symbol = alphabet[one_hot.argmax()]\n",
        "            selfies_str += symbol\n",
        "        decoded_selfies.append(selfies_str)\n",
        "    return decoded_selfies\n",
        "\n",
        "decoded_selfies = decode_selfies(generated_selfies, alphabet)\n",
        "print(decoded_selfies)"
      ],
      "metadata": {
        "colab": {
          "base_uri": "https://localhost:8080/"
        },
        "id": "UPTFf1B6YEla",
        "outputId": "e15f7712-cee2-48ef-ce6c-6cd21dc2a051"
      },
      "execution_count": 74,
      "outputs": [
        {
          "output_type": "stream",
          "name": "stdout",
          "text": [
            "['[C][C][C][C][C][C][C][C][C][C][C][C][C][C][C][C][C][C][C][C][C][C][C][C][C][C][C][C][C][C][C][C][C][C][C][C][C][C][C][C][C][C][C][C][C][C][C][C][Ring1][C][C][Ring1][C][Ring1][Ring1][O][Ring2][Ring1][Ring1][Ring1][C][Ring1][#C][Ring2][Ring2][Branch1][C][C][Ring2][C][C][C][C][Ring2][C][Ring2][C][C][C][=C][Ring2][Ring2][#Branch1][O][Ring2][Ring2][N][=O][Ring2][Ring2][Branch1][Ring2][Ring1][#C][C][Branch1][C][O][C][Ring2][Ring1][Ring2][C][C][C][=O][O][Branch1][C][C][C][P][O]', '[C][C][C][C][C][C][C][C][C][=C][C][C][C][C][C][C][C][C][C][C][C][C][C][C][C][C][C][C][C][C][C][C][Ring1][Ring1][Ring1][Ring1][Ring1][Ring1][Ring1][Ring1][#Branch2][O][Ring1][Ring1][Ring1][Ring1][Ring1][Ring1][#Branch2][Ring1][Branch2][O][C][Ring2][Ring1][C][C][C][C][Ring1][C][Ring2][C][C][Ring2][C][C][C][Ring1][C][C][Branch1][C][C][C][Ring2][C][Ring1][C][=C][Ring2][C][C][C][Ring2][Ring2][N][=O][Ring2][Ring2][Ring1][Ring2][Ring2][#C][C][Branch1][C][O][C][Ring2][#C][Ring2][C][C][C][Ring2][#Branch1][Branch1][C][C][C][P][O]', '[C][C][C][N][C][=C][C][Ring2][C][C][C][=Branch1][C][=O][N][C][C][Ring1][C][N][C][=Branch1][C][C][C][C][C][C][=C][C][=C][C][C][C][C][C][C][C][C][C][C][C][C][C][C][C][C][C][C][C][C][C][C][C][Ring1][C][C][Ring2][Ring1][C][Ring2][Ring1][Ring2][=O][=O][=O][Ring2][=O][=O][=O][Ring2][Ring2][Ring2][=O][O][=O][=Branch2][C][O][O][=N][C][Branch2][O][#Branch2][Ring2][N][=O][Ring2][P][NH1][Ring2][Ring1][#C][S][Ring1][=Branch2][Branch1][C@@H1][O][#C][N][Ring2][Branch1][=O][=Branch2][=C][Branch1][Branch1][=C][C][P][O]', '[C][C][=N][C][C][C][C][C][C][=C][C][C][C][C][C][C][C][C][C][C][C][C][C][C][C][C][C][C][C][C][C][C][Ring1][C][Ring1][Ring1][Ring1][Ring1][Ring1][Ring1][Ring1][Ring1][Ring1][Ring1][Ring1][Ring1][Ring1][Ring1][#Branch2][Ring1][Branch2][O][C][Ring2][Ring1][O][C][C][Ring2][Ring1][C][Ring2][C][C][Ring2][C][C][C][Ring1][C][C][Branch1][C][C][C][Ring2][C][Ring1][C][=C][Ring2][C][#Branch1][C][Ring2][Ring2][N][=O][Ring2][Ring2][Ring1][Ring2][Ring2][#C][C][Branch1][C][O][C][Ring2][#C][Ring2][C][C][C][Ring2][#Branch1][Branch1][C][C][C][P][O]', '[C][C][C][C][C][C][C][C][C][C][C][C][C][C][C][C][C][C][C][C][C][C][C][C][C][C][C][C][C][C][C][C][Ring1][Ring1][Ring1][Ring2][Ring1][Ring1][Ring1][Ring1][Ring1][O][Ring1][Ring1][Ring1][Ring1][Ring1][Ring1][#Branch2][Ring1][Branch2][O][C][Ring2][Ring1][C][C][C][C][Ring1][=C][Ring2][C][C][Ring2][Ring1][C][C][Ring1][C][C][Branch1][C][C][C][Ring2][C][Ring1][C][O][=N][C][#Branch1][C][Ring2][Ring2][N][=O][Ring2][Branch1][Ring1][Ring2][Ring2][#C][Ring1][C][C][O][C][Ring2][#C][Ring2][C][C][C][=O][#Branch1][Branch1][C][C][C][P][O]', '[C][C][C][C][C][C][C][C][C][C][C][C][C][C][=C][C][C][C][C][C][C][C][C][C][C][C][C][C][C][C][C][C][C][C][C][C][C][C][C][C][C][Ring1][Ring1][Ring1][Ring1][Ring1][Ring1][Ring1][Ring1][Ring1][Ring1][O][Ring1][=Branch1][Ring1][O][C][Ring1][Branch2][O][C][C][C][Ring2][Ring2][C][C][C][Ring1][C][C][C][C][C][C][Ring2][C][Ring1][C][=C][Branch1][C][C][Branch1][C][Ring2][O][=O][Ring2][Branch1][Ring1][=O][C][=C][C][Branch1][C][O][C][Ring2][C][Ring2][C][=Branch1][C][=O][#Branch1][Branch1][C][Ring2][C][P][O]', '[C][C][=N][C][C][C][C][C][C][=C][C][C][C][C][C][C][C][C][C][C][C][C][C][C][C][C][C][C][C][C][C][C][Ring1][Ring1][Ring1][Ring1][Ring1][Ring1][Ring1][Ring1][Ring1][O][Ring1][Ring1][Ring1][Ring1][Ring1][Ring1][#Branch2][Ring1][Branch2][O][C][Ring2][Ring1][C][C][C][Ring2][Ring1][=C][Ring2][C][C][Ring2][Ring1][C][C][Ring1][C][C][Branch1][C][C][C][Ring2][C][Ring1][C][=C][=N][C][#Branch1][C][Ring2][Ring2][N][=O][Ring2][Ring2][Ring1][Ring2][Ring2][#C][Ring1][Branch1][C][O][C][Ring2][#C][Ring2][C][C][C][=O][#Branch1][Branch1][C][C][C][P][O]', '[C][C][=N][C][Branch2][C][C][N][C][C][C][C][C][C][C][C][C][C][C][C][C][C][C][C][C][C][C][C][C][C][C][C][C][C][C][C][C][C][C][C][C][C][C][C][C][C][=C][C][Ring1][C][Ring1][Ring1][Ring1][Ring2][Ring1][N][Ring2][Ring2][Ring2][Ring1][#Branch2][=C][Ring1][S][C][Branch1][C][C][C][C][C][C][Ring2][Ring2][Ring2][Ring2][Ring2][C][C][Ring2][Ring2][Ring2][C][O][Ring2][Ring2][C][=O][Ring2][Branch1][Branch1][=O][Ring1][#C][C][Branch1][C][C][C][Ring2][C][Ring2][C][=Branch1][C][=O][O][Branch1][C][C][C][P][O]', '[C][C][C][C][C][C][C][C][C][C][C][C][C][C][C][C][C][C][C][C][C][C][C][C][=C][C][C][Ring1][Ring1][C][C][=C][Ring1][C][Ring1][=Branch1][C][Ring1][#C][C][Ring1][S][C][C][Ring2][Ring1][C][Ring1][C][Ring1][Ring1][O][C][Ring1][O][C][C][C][Ring2][Ring1][=C][Ring2][Ring1][C][Ring2][C][C][C][Ring1][C][C][Branch1][C][C][C][Ring2][C][Ring1][C][=C][Branch1][C][C][C][Ring2][Ring2][=O][=O][Ring2][Ring2][C][Ring2][Ring2][=C][C][Branch1][C][O][C][Ring2][#C][Ring2][C][C][C][=O][O][Branch1][C][C][C][P][O]', '[C][C][C][=C][C][=C][Branch2][Ring2][=Branch2][C][C][=Branch1][C][=O][N][C][C][Ring1][C][N][/C][=Branch1][Ring2][=N][/C][#N][N][C][=C][C][=C][C][=C][Ring1][=Branch1][C][C][C][C][C][C][C][C][C][C][C][C][C][Ring1][C][C][=N][C][Ring2][Ring1][C][C][Ring2][Ring1][C][=O][Ring1][Ring2][S][=O][=O][Ring2][=O][=O][=O][Ring2][=Branch1][=O][=O][#Branch2][=O][Branch2][=Branch2][#Branch2][O][=N][N][Branch2][O][#Branch2][Ring2][N][=O][Ring2][P][NH1][Ring2][Ring1][=Branch1][S][Ring1][=Branch2][Branch1][C@@H1][O][#C][N][Ring2][Branch1][=O][=Branch2][=C][Branch1][Branch1][=C][C][P][O]']\n"
          ]
        }
      ]
    },
    {
      "cell_type": "code",
      "source": [
        "print(len(decoded_selfies))"
      ],
      "metadata": {
        "colab": {
          "base_uri": "https://localhost:8080/"
        },
        "id": "zHsguFmhYcgj",
        "outputId": "b5c6ecde-8f0b-41fe-d82c-cfd276ecac29"
      },
      "execution_count": 75,
      "outputs": [
        {
          "output_type": "stream",
          "name": "stdout",
          "text": [
            "10\n"
          ]
        }
      ]
    },
    {
      "cell_type": "code",
      "source": [
        "print(generated_selfies.shape)"
      ],
      "metadata": {
        "colab": {
          "base_uri": "https://localhost:8080/"
        },
        "id": "5ZcWpZDgNxL7",
        "outputId": "8440619e-aa07-43b0-a8e7-e48c137fb2bf"
      },
      "execution_count": 76,
      "outputs": [
        {
          "output_type": "stream",
          "name": "stdout",
          "text": [
            "(10, 6328)\n"
          ]
        }
      ]
    },
    {
      "cell_type": "code",
      "source": [
        "# Predicting p-values using the trained Random Forest models\n",
        "p2rx7_pvalues = rf_p2rx7.predict(generated_selfies)\n",
        "aa2a_pvalues = rf_aa2a.predict(generated_selfies)\n",
        "cacna1c_pvalues = rf_cacna1c.predict(generated_selfies)\n",
        "\n",
        "for i in range(num_samples):\n",
        "    print(f\"Generated SELFIES: {decoded_selfies[i]}\")\n",
        "    print(f\"P2RX7 p-value: {p2rx7_pvalues[i]}\")\n",
        "    print(f\"AA2A p-value: {aa2a_pvalues[i]}\")\n",
        "    print(f\"CACNA1C p-value: {cacna1c_pvalues[i]}\")\n",
        "    print(\"---\")"
      ],
      "metadata": {
        "colab": {
          "base_uri": "https://localhost:8080/"
        },
        "id": "nzASFp8FZaBh",
        "outputId": "210a385a-8ddd-4714-a074-7deb24208f37"
      },
      "execution_count": 77,
      "outputs": [
        {
          "output_type": "stream",
          "name": "stdout",
          "text": [
            "Generated SELFIES: [C][C][C][C][C][C][C][C][C][C][C][C][C][C][C][C][C][C][C][C][C][C][C][C][C][C][C][C][C][C][C][C][C][C][C][C][C][C][C][C][C][C][C][C][C][C][C][C][Ring1][C][C][Ring1][C][Ring1][Ring1][O][Ring2][Ring1][Ring1][Ring1][C][Ring1][#C][Ring2][Ring2][Branch1][C][C][Ring2][C][C][C][C][Ring2][C][Ring2][C][C][C][=C][Ring2][Ring2][#Branch1][O][Ring2][Ring2][N][=O][Ring2][Ring2][Branch1][Ring2][Ring1][#C][C][Branch1][C][O][C][Ring2][Ring1][Ring2][C][C][C][=O][O][Branch1][C][C][C][P][O]\n",
            "P2RX7 p-value: 6.800712422456061\n",
            "AA2A p-value: 5.445437143859997\n",
            "CACNA1C p-value: 4.985686359405517\n",
            "---\n",
            "Generated SELFIES: [C][C][C][C][C][C][C][C][C][=C][C][C][C][C][C][C][C][C][C][C][C][C][C][C][C][C][C][C][C][C][C][C][Ring1][Ring1][Ring1][Ring1][Ring1][Ring1][Ring1][Ring1][#Branch2][O][Ring1][Ring1][Ring1][Ring1][Ring1][Ring1][#Branch2][Ring1][Branch2][O][C][Ring2][Ring1][C][C][C][C][Ring1][C][Ring2][C][C][Ring2][C][C][C][Ring1][C][C][Branch1][C][C][C][Ring2][C][Ring1][C][=C][Ring2][C][C][C][Ring2][Ring2][N][=O][Ring2][Ring2][Ring1][Ring2][Ring2][#C][C][Branch1][C][O][C][Ring2][#C][Ring2][C][C][C][Ring2][#Branch1][Branch1][C][C][C][P][O]\n",
            "P2RX7 p-value: 6.839179128506827\n",
            "AA2A p-value: 5.450964039027532\n",
            "CACNA1C p-value: 4.9880719661712645\n",
            "---\n",
            "Generated SELFIES: [C][C][C][N][C][=C][C][Ring2][C][C][C][=Branch1][C][=O][N][C][C][Ring1][C][N][C][=Branch1][C][C][C][C][C][C][=C][C][=C][C][C][C][C][C][C][C][C][C][C][C][C][C][C][C][C][C][C][C][C][C][C][C][Ring1][C][C][Ring2][Ring1][C][Ring2][Ring1][Ring2][=O][=O][=O][Ring2][=O][=O][=O][Ring2][Ring2][Ring2][=O][O][=O][=Branch2][C][O][O][=N][C][Branch2][O][#Branch2][Ring2][N][=O][Ring2][P][NH1][Ring2][Ring1][#C][S][Ring1][=Branch2][Branch1][C@@H1][O][#C][N][Ring2][Branch1][=O][=Branch2][=C][Branch1][Branch1][=C][C][P][O]\n",
            "P2RX7 p-value: 6.639680915573288\n",
            "AA2A p-value: 5.371251934970944\n",
            "CACNA1C p-value: 4.971372718811035\n",
            "---\n",
            "Generated SELFIES: [C][C][=N][C][C][C][C][C][C][=C][C][C][C][C][C][C][C][C][C][C][C][C][C][C][C][C][C][C][C][C][C][C][Ring1][C][Ring1][Ring1][Ring1][Ring1][Ring1][Ring1][Ring1][Ring1][Ring1][Ring1][Ring1][Ring1][Ring1][Ring1][#Branch2][Ring1][Branch2][O][C][Ring2][Ring1][O][C][C][Ring2][Ring1][C][Ring2][C][C][Ring2][C][C][C][Ring1][C][C][Branch1][C][C][C][Ring2][C][Ring1][C][=C][Ring2][C][#Branch1][C][Ring2][Ring2][N][=O][Ring2][Ring2][Ring1][Ring2][Ring2][#C][C][Branch1][C][O][C][Ring2][#C][Ring2][C][C][C][Ring2][#Branch1][Branch1][C][C][C][P][O]\n",
            "P2RX7 p-value: 6.839179128506827\n",
            "AA2A p-value: 5.450964039027532\n",
            "CACNA1C p-value: 4.9880719661712645\n",
            "---\n",
            "Generated SELFIES: [C][C][C][C][C][C][C][C][C][C][C][C][C][C][C][C][C][C][C][C][C][C][C][C][C][C][C][C][C][C][C][C][Ring1][Ring1][Ring1][Ring2][Ring1][Ring1][Ring1][Ring1][Ring1][O][Ring1][Ring1][Ring1][Ring1][Ring1][Ring1][#Branch2][Ring1][Branch2][O][C][Ring2][Ring1][C][C][C][C][Ring1][=C][Ring2][C][C][Ring2][Ring1][C][C][Ring1][C][C][Branch1][C][C][C][Ring2][C][Ring1][C][O][=N][C][#Branch1][C][Ring2][Ring2][N][=O][Ring2][Branch1][Ring1][Ring2][Ring2][#C][Ring1][C][C][O][C][Ring2][#C][Ring2][C][C][C][=O][#Branch1][Branch1][C][C][C][P][O]\n",
            "P2RX7 p-value: 6.839179128506827\n",
            "AA2A p-value: 5.450964039027532\n",
            "CACNA1C p-value: 4.9880719661712645\n",
            "---\n",
            "Generated SELFIES: [C][C][C][C][C][C][C][C][C][C][C][C][C][C][=C][C][C][C][C][C][C][C][C][C][C][C][C][C][C][C][C][C][C][C][C][C][C][C][C][C][C][Ring1][Ring1][Ring1][Ring1][Ring1][Ring1][Ring1][Ring1][Ring1][Ring1][O][Ring1][=Branch1][Ring1][O][C][Ring1][Branch2][O][C][C][C][Ring2][Ring2][C][C][C][Ring1][C][C][C][C][C][C][Ring2][C][Ring1][C][=C][Branch1][C][C][Branch1][C][Ring2][O][=O][Ring2][Branch1][Ring1][=O][C][=C][C][Branch1][C][O][C][Ring2][C][Ring2][C][=Branch1][C][=O][#Branch1][Branch1][C][Ring2][C][P][O]\n",
            "P2RX7 p-value: 6.800712422456061\n",
            "AA2A p-value: 5.445437143859997\n",
            "CACNA1C p-value: 4.985686359405517\n",
            "---\n",
            "Generated SELFIES: [C][C][=N][C][C][C][C][C][C][=C][C][C][C][C][C][C][C][C][C][C][C][C][C][C][C][C][C][C][C][C][C][C][Ring1][Ring1][Ring1][Ring1][Ring1][Ring1][Ring1][Ring1][Ring1][O][Ring1][Ring1][Ring1][Ring1][Ring1][Ring1][#Branch2][Ring1][Branch2][O][C][Ring2][Ring1][C][C][C][Ring2][Ring1][=C][Ring2][C][C][Ring2][Ring1][C][C][Ring1][C][C][Branch1][C][C][C][Ring2][C][Ring1][C][=C][=N][C][#Branch1][C][Ring2][Ring2][N][=O][Ring2][Ring2][Ring1][Ring2][Ring2][#C][Ring1][Branch1][C][O][C][Ring2][#C][Ring2][C][C][C][=O][#Branch1][Branch1][C][C][C][P][O]\n",
            "P2RX7 p-value: 6.839179128506827\n",
            "AA2A p-value: 5.450964039027532\n",
            "CACNA1C p-value: 4.9880719661712645\n",
            "---\n",
            "Generated SELFIES: [C][C][=N][C][Branch2][C][C][N][C][C][C][C][C][C][C][C][C][C][C][C][C][C][C][C][C][C][C][C][C][C][C][C][C][C][C][C][C][C][C][C][C][C][C][C][C][C][=C][C][Ring1][C][Ring1][Ring1][Ring1][Ring2][Ring1][N][Ring2][Ring2][Ring2][Ring1][#Branch2][=C][Ring1][S][C][Branch1][C][C][C][C][C][C][Ring2][Ring2][Ring2][Ring2][Ring2][C][C][Ring2][Ring2][Ring2][C][O][Ring2][Ring2][C][=O][Ring2][Branch1][Branch1][=O][Ring1][#C][C][Branch1][C][C][C][Ring2][C][Ring2][C][=Branch1][C][=O][O][Branch1][C][C][C][P][O]\n",
            "P2RX7 p-value: 6.839179128506827\n",
            "AA2A p-value: 5.450964039027532\n",
            "CACNA1C p-value: 4.9880719661712645\n",
            "---\n",
            "Generated SELFIES: [C][C][C][C][C][C][C][C][C][C][C][C][C][C][C][C][C][C][C][C][C][C][C][C][=C][C][C][Ring1][Ring1][C][C][=C][Ring1][C][Ring1][=Branch1][C][Ring1][#C][C][Ring1][S][C][C][Ring2][Ring1][C][Ring1][C][Ring1][Ring1][O][C][Ring1][O][C][C][C][Ring2][Ring1][=C][Ring2][Ring1][C][Ring2][C][C][C][Ring1][C][C][Branch1][C][C][C][Ring2][C][Ring1][C][=C][Branch1][C][C][C][Ring2][Ring2][=O][=O][Ring2][Ring2][C][Ring2][Ring2][=C][C][Branch1][C][O][C][Ring2][#C][Ring2][C][C][C][=O][O][Branch1][C][C][C][P][O]\n",
            "P2RX7 p-value: 6.765929660961742\n",
            "AA2A p-value: 5.521139049215306\n",
            "CACNA1C p-value: 4.992843179702759\n",
            "---\n",
            "Generated SELFIES: [C][C][C][=C][C][=C][Branch2][Ring2][=Branch2][C][C][=Branch1][C][=O][N][C][C][Ring1][C][N][/C][=Branch1][Ring2][=N][/C][#N][N][C][=C][C][=C][C][=C][Ring1][=Branch1][C][C][C][C][C][C][C][C][C][C][C][C][C][Ring1][C][C][=N][C][Ring2][Ring1][C][C][Ring2][Ring1][C][=O][Ring1][Ring2][S][=O][=O][Ring2][=O][=O][=O][Ring2][=Branch1][=O][=O][#Branch2][=O][Branch2][=Branch2][#Branch2][O][=N][N][Branch2][O][#Branch2][Ring2][N][=O][Ring2][P][NH1][Ring2][Ring1][=Branch1][S][Ring1][=Branch2][Branch1][C@@H1][O][#C][N][Ring2][Branch1][=O][=Branch2][=C][Branch1][Branch1][=C][C][P][O]\n",
            "P2RX7 p-value: 6.784098208633679\n",
            "AA2A p-value: 5.351724015729067\n",
            "CACNA1C p-value: 4.954496978521347\n",
            "---\n"
          ]
        }
      ]
    },
    {
      "cell_type": "code",
      "source": [
        "def selfies_to_smiles(decoded_selfies):\n",
        "    smiles_list = []\n",
        "    for selfies in decoded_selfies:\n",
        "        try:\n",
        "            smiles = sf.decoder(selfies)\n",
        "            smiles_list.append(smiles)\n",
        "        except sf.DecoderError as e:\n",
        "            print(f\"Error decoding SELFIES to SMILES: {e}\")\n",
        "            smiles_list.append(None)\n",
        "    return smiles_list\n",
        "\n",
        "smiles_list = selfies_to_smiles(decoded_selfies)"
      ],
      "metadata": {
        "id": "Im8E4tpt9K63"
      },
      "execution_count": 78,
      "outputs": []
    },
    {
      "cell_type": "code",
      "source": [
        "for i in smiles_list:\n",
        "    print(i)"
      ],
      "metadata": {
        "colab": {
          "base_uri": "https://localhost:8080/"
        },
        "id": "UGu4f4iK9kMG",
        "outputId": "d579cf70-5c34-4cb1-d61e-5ad0fd3b1adc"
      },
      "execution_count": 79,
      "outputs": [
        {
          "output_type": "stream",
          "name": "stdout",
          "text": [
            "CCCCCCCCCCCCCCCCCCCCCCCCCCCCCCCC1CCCCCCCCCCCCCCC2=C=C2O1\n",
            "CCCCCCCCC=CCCCCCCCCCCCCCCCCCCCC=1CC=1\n",
            "CCCNC=C=CC(=O)NC=CNC(C)CCCC=CC=CCCCCC1CC2CCCCCCCCCCCCCCC=CC21OOO\n",
            "CC=NCCCCCC=CCCCCCCCCCCCCCCCCCCCC=1C=C=1\n",
            "CCCCCCCCCCCCCCCCCCCCCCCCCCCCC1C=2CC=21\n",
            "CCCCCCCCCCCCCC=CCCCCCCCCCCCCCCCCCCCCCCCC=1CC=1\n",
            "CC=NCCCCCC=CCCCCCCCCCCCCCCCCCCCC=1CC=1\n",
            "CC=NC(N)CCCCCCCCCCCCCCCCCCCCCCCCCCCCCCCCCCCCC1C2=C=C21\n",
            "CCCCCCCCCCCCCCCCCCCCCCCC=C1CC1CC#C\n",
            "CCC=CC=C(CC(=O)NC=CN/C(=N/C#N)NC1=CC=CC2=C1CCCCCCCCCCCC=C)C=NC2C=O\n"
          ]
        }
      ]
    },
    {
      "cell_type": "code",
      "source": [
        "import rdkit\n",
        "from rdkit import Chem\n",
        "from rdkit.Chem import Draw\n",
        "from IPython.display import display\n",
        "\n",
        "def visualize_smiles(smiles_list):\n",
        "    molecules = []\n",
        "    legends = []\n",
        "    for i, smiles in enumerate(smiles_list):\n",
        "        if smiles is not None:\n",
        "            mol = Chem.MolFromSmiles(smiles)\n",
        "            if mol:\n",
        "                molecules.append(mol)\n",
        "                legend = (f\"P2RX7 p-value: {p2rx7_pvalues[i]:.4f}\\n\"\n",
        "                          f\"AA2A p-value: {aa2a_pvalues[i]:.4f}\\n\"\n",
        "                          f\"CACNA1C p-value: {cacna1c_pvalues[i]:.4f}\")\n",
        "                legends.append(legend)\n",
        "            else:\n",
        "                print(\"Failed to create molecule from SMILES:\", smiles)\n",
        "        else:\n",
        "            print(\"Invalid SMILES provided\")\n",
        "\n",
        "    if molecules:\n",
        "        img = Draw.MolsToGridImage(molecules, molsPerRow=3, subImgSize=(300, 300), legends=legends)\n",
        "        return img\n",
        "    else:\n",
        "        print(\"No valid molecules to display.\")\n",
        "\n",
        "img = visualize_smiles(smiles_list)\n",
        "display(img)"
      ],
      "metadata": {
        "colab": {
          "base_uri": "https://localhost:8080/",
          "height": 1000
        },
        "id": "6kdLylIK9qy_",
        "outputId": "118d6fe2-8ac4-44cc-a498-52e92017c6d3"
      },
      "execution_count": 80,
      "outputs": [
        {
          "output_type": "display_data",
          "data": {
            "image/png": "[encoded data removed]",
            "text/plain": [
              "<IPython.core.display.Image object>"
            ]
          },
          "metadata": {}
        }
      ]
    }
  ],
  "metadata": {
    "colab": {
      "provenance": [],
      "authorship_tag": "ABX9TyNPTHofTb20gq3VAC6foBZp"
    },
    "kernelspec": {
      "display_name": "Python 3",
      "name": "python3"
    },
    "language_info": {
      "name": "python"
    }
  },
  "nbformat": 4,
  "nbformat_minor": 0
}