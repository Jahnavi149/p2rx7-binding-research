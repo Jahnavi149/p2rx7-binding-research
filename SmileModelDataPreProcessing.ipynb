{
 "cells": [
  {
   "cell_type": "code",
   "execution_count": 1,
   "id": "b6134d5c-4aeb-407a-813f-8d0e3df5d7b0",
   "metadata": {},
   "outputs": [
    {
     "name": "stdout",
     "output_type": "stream",
     "text": [
      "   Molecular Weight  AlogP                                             Smiles  \\\n",
      "0            497.60   4.39  COc1ccc(CC(=O)N2CCN(/C(=N/C#N)Nc3ccccc3C)CC2c2...   \n",
      "1            438.81   4.65  O=C(c1cccc(C(F)(F)F)c1Cl)N1CCc2c(ncn2-c2ccccn2...   \n",
      "2            473.80   5.76  O=C(c1cccc(C(F)(F)F)c1Cl)N1CCc2c(nc(C(F)(F)F)n...   \n",
      "3            438.81   4.84  C[C@H]1c2ncn(-c3ccc(F)cn3)c2CCN1C(=O)c1cccc(C(...   \n",
      "4            437.82   5.44  C[C@H]1c2ncn(-c3ccc(F)cc3)c2CCN1C(=O)c1cccc(C(...   \n",
      "\n",
      "  Standard Type  Standard Value Standard Units  pChEMBL Value  \\\n",
      "0          IC50           140.0             nM           6.85   \n",
      "1          IC50            65.5             nM           7.18   \n",
      "2          IC50           126.5             nM           6.90   \n",
      "3          IC50         10000.0             nM           5.00   \n",
      "4          IC50          2041.7             nM           5.69   \n",
      "\n",
      "   Ligand Efficiency BEI  Ligand Efficiency LE  Ligand Efficiency LLE  \\\n",
      "0                    NaN                   NaN                    NaN   \n",
      "1                  16.37                  0.33                   2.53   \n",
      "2                  14.56                  0.29                   1.14   \n",
      "3                  11.39                  0.23                   0.16   \n",
      "4                  13.00                  0.26                   0.25   \n",
      "\n",
      "   Ligand Efficiency SEI  \n",
      "0                    NaN  \n",
      "1                  14.08  \n",
      "2                  18.09  \n",
      "3                   9.80  \n",
      "4                  14.92  \n"
     ]
    }
   ],
   "source": [
    "import pandas as pd\n",
    "\n",
    "df1 = pd.read_csv('1132_Chembyl.csv')\n",
    "df2 = pd.read_csv('5534_Chembyl.csv')\n",
    "\n",
    "combined_df = pd.concat([df1, df2], ignore_index=True)\n",
    "\n",
    "combined_df.to_csv('Chembyl.csv', index=False)\n",
    "\n",
    "print(combined_df.head())"
   ]
  },
  {
   "cell_type": "code",
   "execution_count": 2,
   "id": "744e9221-ee1e-48b4-8b34-2883d3e081d1",
   "metadata": {},
   "outputs": [],
   "source": [
    "df = combined_df[combined_df['Standard Type'] == 'IC50']"
   ]
  },
  {
   "cell_type": "code",
   "execution_count": 3,
   "id": "dab81478-3f3c-4553-9557-0c95fd86d16f",
   "metadata": {},
   "outputs": [
    {
     "name": "stdout",
     "output_type": "stream",
     "text": [
      "(5005, 11)\n"
     ]
    }
   ],
   "source": [
    "print(df.shape)"
   ]
  },
  {
   "cell_type": "code",
   "execution_count": 4,
   "id": "81313d99-6bc4-42e7-a606-b565d00f38f5",
   "metadata": {},
   "outputs": [
    {
     "name": "stdout",
     "output_type": "stream",
     "text": [
      "(4929, 11)\n"
     ]
    }
   ],
   "source": [
    "df = df[df['Standard Units'] == 'nM']\n",
    "print(df.shape)"
   ]
  },
  {
   "cell_type": "code",
   "execution_count": 5,
   "id": "a7800f37-1083-47ae-8612-579c8945b4f6",
   "metadata": {},
   "outputs": [],
   "source": [
    "df = df.drop(columns=['Standard Type', 'Standard Units'])\n",
    "df = df.rename(columns={'Standard Value': 'IC50_nM'})"
   ]
  },
  {
   "cell_type": "code",
   "execution_count": 6,
   "id": "b8154387-6cb6-42b5-8702-0c5f67f51790",
   "metadata": {},
   "outputs": [
    {
     "name": "stdout",
     "output_type": "stream",
     "text": [
      "(4929, 9)\n",
      "   Molecular Weight  AlogP                                             Smiles  \\\n",
      "0            497.60   4.39  COc1ccc(CC(=O)N2CCN(/C(=N/C#N)Nc3ccccc3C)CC2c2...   \n",
      "1            438.81   4.65  O=C(c1cccc(C(F)(F)F)c1Cl)N1CCc2c(ncn2-c2ccccn2...   \n",
      "2            473.80   5.76  O=C(c1cccc(C(F)(F)F)c1Cl)N1CCc2c(nc(C(F)(F)F)n...   \n",
      "3            438.81   4.84  C[C@H]1c2ncn(-c3ccc(F)cn3)c2CCN1C(=O)c1cccc(C(...   \n",
      "4            437.82   5.44  C[C@H]1c2ncn(-c3ccc(F)cc3)c2CCN1C(=O)c1cccc(C(...   \n",
      "\n",
      "   IC50_nM  pChEMBL Value  Ligand Efficiency BEI  Ligand Efficiency LE  \\\n",
      "0    140.0           6.85                    NaN                   NaN   \n",
      "1     65.5           7.18                  16.37                  0.33   \n",
      "2    126.5           6.90                  14.56                  0.29   \n",
      "3  10000.0           5.00                  11.39                  0.23   \n",
      "4   2041.7           5.69                  13.00                  0.26   \n",
      "\n",
      "   Ligand Efficiency LLE  Ligand Efficiency SEI  \n",
      "0                    NaN                    NaN  \n",
      "1                   2.53                  14.08  \n",
      "2                   1.14                  18.09  \n",
      "3                   0.16                   9.80  \n",
      "4                   0.25                  14.92  \n"
     ]
    }
   ],
   "source": [
    "print(df.shape)\n",
    "print(df.head())"
   ]
  },
  {
   "cell_type": "code",
   "execution_count": 7,
   "id": "71285f24-d536-40b6-9eff-ef89f11ec981",
   "metadata": {},
   "outputs": [
    {
     "name": "stdout",
     "output_type": "stream",
     "text": [
      "Number of rows with NaN for BEI: 1380\n",
      "Number of rows with NaN for LE: 1387\n",
      "Number of rows with NaN for LLE: 1387\n",
      "Number of rows with NaN for SEI: 1387\n"
     ]
    }
   ],
   "source": [
    "bei_count = df['Ligand Efficiency BEI'].isna().sum()\n",
    "le_count = df['Ligand Efficiency LE'].isna().sum()\n",
    "lle_count = df['Ligand Efficiency LLE'].isna().sum()\n",
    "sei_count = df['Ligand Efficiency SEI'].isna().sum()\n",
    "\n",
    "print(\"Number of rows with NaN for BEI:\", bei_count)\n",
    "print(\"Number of rows with NaN for LE:\", le_count)\n",
    "print(\"Number of rows with NaN for LLE:\", lle_count)\n",
    "print(\"Number of rows with NaN for SEI:\", sei_count)"
   ]
  },
  {
   "cell_type": "code",
   "execution_count": 8,
   "id": "ed1f008d-fcab-4b72-8177-47e185618c72",
   "metadata": {},
   "outputs": [],
   "source": [
    "df = df.dropna(subset=['Ligand Efficiency LE'])"
   ]
  },
  {
   "cell_type": "code",
   "execution_count": 9,
   "id": "b2d310ca-9f8f-4d04-9d08-bad2b6b96338",
   "metadata": {},
   "outputs": [
    {
     "name": "stdout",
     "output_type": "stream",
     "text": [
      "Number of rows with NaN for BEI: 0\n",
      "Number of rows with NaN for LE: 0\n",
      "Number of rows with NaN for LLE: 0\n",
      "Number of rows with NaN for SEI: 0\n"
     ]
    }
   ],
   "source": [
    "bei_count = df['Ligand Efficiency BEI'].isna().sum()\n",
    "le_count = df['Ligand Efficiency LE'].isna().sum()\n",
    "lle_count = df['Ligand Efficiency LLE'].isna().sum()\n",
    "sei_count = df['Ligand Efficiency SEI'].isna().sum()\n",
    "\n",
    "print(\"Number of rows with NaN for BEI:\", bei_count)\n",
    "print(\"Number of rows with NaN for LE:\", le_count)\n",
    "print(\"Number of rows with NaN for LLE:\", lle_count)\n",
    "print(\"Number of rows with NaN for SEI:\", sei_count)"
   ]
  },
  {
   "cell_type": "code",
   "execution_count": 10,
   "id": "c065f605-2cbe-47fa-97d2-33314d0f9fac",
   "metadata": {},
   "outputs": [
    {
     "name": "stdout",
     "output_type": "stream",
     "text": [
      "   Molecular Weight  AlogP                                             Smiles  \\\n",
      "1            438.81   4.65  O=C(c1cccc(C(F)(F)F)c1Cl)N1CCc2c(ncn2-c2ccccn2...   \n",
      "2            473.80   5.76  O=C(c1cccc(C(F)(F)F)c1Cl)N1CCc2c(nc(C(F)(F)F)n...   \n",
      "3            438.81   4.84  C[C@H]1c2ncn(-c3ccc(F)cn3)c2CCN1C(=O)c1cccc(C(...   \n",
      "4            437.82   5.44  C[C@H]1c2ncn(-c3ccc(F)cc3)c2CCN1C(=O)c1cccc(C(...   \n",
      "6            439.80   4.44  C[C@H]1c2ncnc(-c3ccn[nH]3)c2CCN1C(=O)c1ccc(F)c...   \n",
      "\n",
      "   IC50_nM  pChEMBL Value  Ligand Efficiency BEI  Ligand Efficiency LE  \\\n",
      "1     65.5           7.18                  16.37                  0.33   \n",
      "2    126.5           6.90                  14.56                  0.29   \n",
      "3  10000.0           5.00                  11.39                  0.23   \n",
      "4   2041.7           5.69                  13.00                  0.26   \n",
      "6   1227.4           5.91                  13.44                  0.27   \n",
      "\n",
      "   Ligand Efficiency LLE  Ligand Efficiency SEI  \n",
      "1                   2.53                  14.08  \n",
      "2                   1.14                  18.09  \n",
      "3                   0.16                   9.80  \n",
      "4                   0.25                  14.92  \n",
      "6                   1.47                   7.91  \n"
     ]
    }
   ],
   "source": [
    "print(df.head())"
   ]
  },
  {
   "cell_type": "code",
   "execution_count": 11,
   "id": "1f26974e-06a1-498b-9356-ebf3ce720dbd",
   "metadata": {},
   "outputs": [],
   "source": [
    "df.to_csv('Processed_Molecular_Data.csv', index=False)"
   ]
  }
 ],
 "metadata": {
  "kernelspec": {
   "display_name": "Python 3 (ipykernel)",
   "language": "python",
   "name": "python3"
  },
  "language_info": {
   "codemirror_mode": {
    "name": "ipython",
    "version": 3
   },
   "file_extension": ".py",
   "mimetype": "text/x-python",
   "name": "python",
   "nbconvert_exporter": "python",
   "pygments_lexer": "ipython3",
   "version": "3.10.14"
  }
 },
 "nbformat": 4,
 "nbformat_minor": 5
}
